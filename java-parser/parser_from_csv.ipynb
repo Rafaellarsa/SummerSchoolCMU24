{
 "cells": [
  {
   "cell_type": "code",
   "execution_count": 10,
   "metadata": {},
   "outputs": [
    {
     "data": {
      "text/html": [
       "<div>\n",
       "<style scoped>\n",
       "    .dataframe tbody tr th:only-of-type {\n",
       "        vertical-align: middle;\n",
       "    }\n",
       "\n",
       "    .dataframe tbody tr th {\n",
       "        vertical-align: top;\n",
       "    }\n",
       "\n",
       "    .dataframe thead th {\n",
       "        text-align: right;\n",
       "    }\n",
       "</style>\n",
       "<table border=\"1\" class=\"dataframe\">\n",
       "  <thead>\n",
       "    <tr style=\"text-align: right;\">\n",
       "      <th></th>\n",
       "      <th>AnonID</th>\n",
       "      <th>Timestamp</th>\n",
       "      <th>Assessment</th>\n",
       "      <th>ProblemName</th>\n",
       "      <th>TransactionID</th>\n",
       "      <th>Score</th>\n",
       "      <th>CodeStateID</th>\n",
       "      <th>SessionID</th>\n",
       "      <th>MaxScore</th>\n",
       "      <th>Input</th>\n",
       "      <th>SubmissionNumber</th>\n",
       "    </tr>\n",
       "  </thead>\n",
       "  <tbody>\n",
       "    <tr>\n",
       "      <th>0</th>\n",
       "      <td>14398</td>\n",
       "      <td>2019-02-20T17:40:39</td>\n",
       "      <td>439.0</td>\n",
       "      <td>13</td>\n",
       "      <td>13-49557</td>\n",
       "      <td>0.0</td>\n",
       "      <td>1717563</td>\n",
       "      <td>0</td>\n",
       "      <td>1</td>\n",
       "      <td>public int caughtSpeeding(int speed, boolean i...</td>\n",
       "      <td>1</td>\n",
       "    </tr>\n",
       "    <tr>\n",
       "      <th>1</th>\n",
       "      <td>13502</td>\n",
       "      <td>2019-02-20T18:28:17</td>\n",
       "      <td>439.0</td>\n",
       "      <td>13</td>\n",
       "      <td>13-49561</td>\n",
       "      <td>0.0</td>\n",
       "      <td>1717711</td>\n",
       "      <td>0</td>\n",
       "      <td>1</td>\n",
       "      <td>public int caughtSpeeding(int speed, boolean i...</td>\n",
       "      <td>1</td>\n",
       "    </tr>\n",
       "    <tr>\n",
       "      <th>2</th>\n",
       "      <td>13502</td>\n",
       "      <td>2019-02-20T18:28:43</td>\n",
       "      <td>439.0</td>\n",
       "      <td>13</td>\n",
       "      <td>13-49579</td>\n",
       "      <td>0.0</td>\n",
       "      <td>1717712</td>\n",
       "      <td>0</td>\n",
       "      <td>1</td>\n",
       "      <td>public int caughtSpeeding(int speed, boolean i...</td>\n",
       "      <td>2</td>\n",
       "    </tr>\n",
       "  </tbody>\n",
       "</table>\n",
       "</div>"
      ],
      "text/plain": [
       "   AnonID            Timestamp  Assessment  ProblemName TransactionID  Score  \\\n",
       "0   14398  2019-02-20T17:40:39       439.0           13      13-49557    0.0   \n",
       "1   13502  2019-02-20T18:28:17       439.0           13      13-49561    0.0   \n",
       "2   13502  2019-02-20T18:28:43       439.0           13      13-49579    0.0   \n",
       "\n",
       "   CodeStateID  SessionID  MaxScore  \\\n",
       "0      1717563          0         1   \n",
       "1      1717711          0         1   \n",
       "2      1717712          0         1   \n",
       "\n",
       "                                               Input  SubmissionNumber  \n",
       "0  public int caughtSpeeding(int speed, boolean i...                 1  \n",
       "1  public int caughtSpeeding(int speed, boolean i...                 1  \n",
       "2  public int caughtSpeeding(int speed, boolean i...                 2  "
      ]
     },
     "execution_count": 10,
     "metadata": {},
     "output_type": "execute_result"
    }
   ],
   "source": [
    "import pandas as pd\n",
    "\n",
    "data = pd.read_csv('FilteredMainTable.csv', delimiter=',')\n",
    "\n",
    "data.head(3)"
   ]
  },
  {
   "cell_type": "code",
   "execution_count": 11,
   "metadata": {},
   "outputs": [
    {
     "data": {
      "text/plain": [
       "0                                            #C1717563\n",
       "1    public int caughtSpeeding(int speed, boolean i...\n",
       "2    public int caughtSpeeding(int speed, boolean i...\n",
       "3                                            #C1717711\n",
       "4                                            #C1717712\n",
       "5    public int caughtSpeeding(int speed, boolean i...\n",
       "6                                            #C1717715\n",
       "7    public int caughtSpeeding(int speed, boolean i...\n",
       "8                                            #C1717717\n",
       "9    public int caughtSpeeding(int speed, boolean i...\n",
       "dtype: object"
      ]
     },
     "execution_count": 11,
     "metadata": {},
     "output_type": "execute_result"
    }
   ],
   "source": [
    "state_id = '#C' + data['CodeStateID'].astype(str)\n",
    "code_input = data['Input']\n",
    "\n",
    "txt_content = pd.concat([state_id, code_input]).sort_index().reset_index(drop=True)\n",
    "\n",
    "txt_content.head(10)"
   ]
  },
  {
   "cell_type": "code",
   "execution_count": 12,
   "metadata": {},
   "outputs": [],
   "source": [
    "txt_content.to_csv('test.txt', index=False)\n",
    "\n"
   ]
  }
 ],
 "metadata": {
  "kernelspec": {
   "display_name": "Python 3",
   "language": "python",
   "name": "python3"
  },
  "language_info": {
   "codemirror_mode": {
    "name": "ipython",
    "version": 3
   },
   "file_extension": ".py",
   "mimetype": "text/x-python",
   "name": "python",
   "nbconvert_exporter": "python",
   "pygments_lexer": "ipython3",
   "version": "3.12.2"
  }
 },
 "nbformat": 4,
 "nbformat_minor": 2
}
