{
 "cells": [
  {
   "cell_type": "code",
   "execution_count": 1,
   "metadata": {},
   "outputs": [
    {
     "data": {
      "text/html": [
       "<div>\n",
       "<style scoped>\n",
       "    .dataframe tbody tr th:only-of-type {\n",
       "        vertical-align: middle;\n",
       "    }\n",
       "\n",
       "    .dataframe tbody tr th {\n",
       "        vertical-align: top;\n",
       "    }\n",
       "\n",
       "    .dataframe thead th {\n",
       "        text-align: right;\n",
       "    }\n",
       "</style>\n",
       "<table border=\"1\" class=\"dataframe\">\n",
       "  <thead>\n",
       "    <tr style=\"text-align: right;\">\n",
       "      <th></th>\n",
       "      <th>Unnamed: 0</th>\n",
       "      <th>ProblemName</th>\n",
       "      <th>Input</th>\n",
       "    </tr>\n",
       "  </thead>\n",
       "  <tbody>\n",
       "    <tr>\n",
       "      <th>0</th>\n",
       "      <td>0</td>\n",
       "      <td>13</td>\n",
       "      <td>public int caughtSpeeding(int speed, boolean i...</td>\n",
       "    </tr>\n",
       "    <tr>\n",
       "      <th>1</th>\n",
       "      <td>1</td>\n",
       "      <td>13</td>\n",
       "      <td>public int caughtSpeeding(int speed, boolean i...</td>\n",
       "    </tr>\n",
       "    <tr>\n",
       "      <th>2</th>\n",
       "      <td>2</td>\n",
       "      <td>13</td>\n",
       "      <td>public int caughtSpeeding(int speed, boolean i...</td>\n",
       "    </tr>\n",
       "  </tbody>\n",
       "</table>\n",
       "</div>"
      ],
      "text/plain": [
       "   Unnamed: 0  ProblemName                                              Input\n",
       "0           0           13  public int caughtSpeeding(int speed, boolean i...\n",
       "1           1           13  public int caughtSpeeding(int speed, boolean i...\n",
       "2           2           13  public int caughtSpeeding(int speed, boolean i..."
      ]
     },
     "execution_count": 1,
     "metadata": {},
     "output_type": "execute_result"
    }
   ],
   "source": [
    "import pandas as pd\n",
    "import csv\n",
    "\n",
    "data = pd.read_csv('FilteredMainTable.csv', delimiter=',')\n",
    "\n",
    "students = [14337, 14332, 14470, 6048, 14379, 14372, 10385, 14347, 14334, 14450, 14497, 13426, 14210, 14205, 14368, 9217, 14360, 14371, 9453, 14163, 14235, 13504, 14238, 14478, 14433, 14505, 14300, 14436, 14222, 14411, 14452, 14173, 14395, 14462, 14225, 10358, 14413, 13463, 14302, 10319, 14208, 10309, 14398, 10276, 14279, 14404, 14278, 714, 14314, 14335, 263, 14288, 14498, 10405, 14458, 14403, 14496, 9948, 13402, 14420, 14471, 14310, 13602, 14144, 13830, 14226, 14194, 14495, 14393, 14399, 14438, 14192, 14501, 14325, 14178, 4419, 14389, 14232, 14277, 6493, 14441, 14195, 14463, 13513, 6986, 10155, 14354, 14417, 10115, 10098, 14340, 14381, 14365, 14212, 14483, 14419, 14492, 14447, 13658, 14207]\n",
    "data = data[data['AnonID'].isin(students)]\n",
    "\n",
    "data.head(3)"
   ]
  },
  {
   "cell_type": "code",
   "execution_count": 4,
   "metadata": {},
   "outputs": [
    {
     "data": {
      "text/html": [
       "<div>\n",
       "<style scoped>\n",
       "    .dataframe tbody tr th:only-of-type {\n",
       "        vertical-align: middle;\n",
       "    }\n",
       "\n",
       "    .dataframe tbody tr th {\n",
       "        vertical-align: top;\n",
       "    }\n",
       "\n",
       "    .dataframe thead th {\n",
       "        text-align: right;\n",
       "    }\n",
       "</style>\n",
       "<table border=\"1\" class=\"dataframe\">\n",
       "  <thead>\n",
       "    <tr style=\"text-align: right;\">\n",
       "      <th></th>\n",
       "      <th>0</th>\n",
       "    </tr>\n",
       "  </thead>\n",
       "  <tbody>\n",
       "    <tr>\n",
       "      <th>0</th>\n",
       "      <td>#C13</td>\n",
       "    </tr>\n",
       "    <tr>\n",
       "      <th>1</th>\n",
       "      <td>public int caughtSpeeding(int speed, boolean i...</td>\n",
       "    </tr>\n",
       "    <tr>\n",
       "      <th>2</th>\n",
       "      <td>EOF</td>\n",
       "    </tr>\n",
       "    <tr>\n",
       "      <th>3</th>\n",
       "      <td>#C13</td>\n",
       "    </tr>\n",
       "    <tr>\n",
       "      <th>4</th>\n",
       "      <td>public int caughtSpeeding(int speed, boolean i...</td>\n",
       "    </tr>\n",
       "    <tr>\n",
       "      <th>5</th>\n",
       "      <td>EOF</td>\n",
       "    </tr>\n",
       "    <tr>\n",
       "      <th>6</th>\n",
       "      <td>#C13</td>\n",
       "    </tr>\n",
       "    <tr>\n",
       "      <th>7</th>\n",
       "      <td>public int caughtSpeeding(int speed, boolean i...</td>\n",
       "    </tr>\n",
       "    <tr>\n",
       "      <th>8</th>\n",
       "      <td>EOF</td>\n",
       "    </tr>\n",
       "    <tr>\n",
       "      <th>9</th>\n",
       "      <td>#C13</td>\n",
       "    </tr>\n",
       "  </tbody>\n",
       "</table>\n",
       "</div>"
      ],
      "text/plain": [
       "                                                   0\n",
       "0                                               #C13\n",
       "1  public int caughtSpeeding(int speed, boolean i...\n",
       "2                                                EOF\n",
       "3                                               #C13\n",
       "4  public int caughtSpeeding(int speed, boolean i...\n",
       "5                                                EOF\n",
       "6                                               #C13\n",
       "7  public int caughtSpeeding(int speed, boolean i...\n",
       "8                                                EOF\n",
       "9                                               #C13"
      ]
     },
     "execution_count": 4,
     "metadata": {},
     "output_type": "execute_result"
    }
   ],
   "source": [
    "state_id = '#C' + data['ProblemName'].astype(str)\n",
    "code_input = data['Input']\n",
    "state_length = state_id.__len__()\n",
    "eof = ['EOF' for _ in range(state_length)]\n",
    "\n",
    "txt_content = pd.DataFrame.from_dict({'id':state_id, 'code':code_input, 'eof': eof})\n",
    "\n",
    "txt_content = txt_content.stack().reset_index(drop=True).to_frame()\n",
    "txt_content.head(10)"
   ]
  },
  {
   "cell_type": "code",
   "execution_count": 5,
   "metadata": {},
   "outputs": [],
   "source": [
    "txt_content.to_csv('hundred_students.txt', index=False, header=False, quoting=csv.QUOTE_NONE, quotechar=\"\",  escapechar=\" \")"
   ]
  }
 ],
 "metadata": {
  "kernelspec": {
   "display_name": "Python 3",
   "language": "python",
   "name": "python3"
  },
  "language_info": {
   "codemirror_mode": {
    "name": "ipython",
    "version": 3
   },
   "file_extension": ".py",
   "mimetype": "text/x-python",
   "name": "python",
   "nbconvert_exporter": "python",
   "pygments_lexer": "ipython3",
   "version": "3.12.2"
  }
 },
 "nbformat": 4,
 "nbformat_minor": 2
}
