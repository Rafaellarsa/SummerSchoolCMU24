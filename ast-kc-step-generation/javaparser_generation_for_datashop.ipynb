{
 "cells": [
  {
   "cell_type": "markdown",
   "id": "6ad2b754",
   "metadata": {},
   "source": [
    "## Setting Custom Parameters"
   ]
  },
  {
   "cell_type": "code",
   "execution_count": 24,
   "id": "19bd6cdf",
   "metadata": {},
   "outputs": [],
   "source": [
    "import pandas as pd\n"
   ]
  },
  {
   "cell_type": "markdown",
   "id": "bb9ef3a2",
   "metadata": {},
   "source": [
    "Modify the following parameters according to your folder organization. Example files for each folder can be found in this repository."
   ]
  },
  {
   "cell_type": "code",
   "execution_count": 25,
   "id": "8f81722d",
   "metadata": {},
   "outputs": [],
   "source": [
    "INSTRUCTOR_SOLUTIONS = \"./instructor_solutions\"\n",
    "STUDENT_INTERACTION_DATA = \"./student_interaction_data\"\n",
    "OUTPUT_FOLDER = \"./datasets/experiment\""
   ]
  },
  {
   "cell_type": "markdown",
   "id": "57cdd8cd",
   "metadata": {},
   "source": [
    "Select the number of students to be sampled from the set. Must be less than the total number of students in the dataset."
   ]
  },
  {
   "cell_type": "code",
   "execution_count": 26,
   "id": "7d9017c5",
   "metadata": {},
   "outputs": [],
   "source": [
    "STUDENT_SAMPLE_SIZE = 20"
   ]
  },
  {
   "cell_type": "markdown",
   "id": "ee2704da",
   "metadata": {},
   "source": [
    "List of semesters the data was collected from. Must match the names of the subfolders in STUDENT_INTERACTION_DATA."
   ]
  },
  {
   "cell_type": "code",
   "execution_count": 27,
   "id": "de30a391",
   "metadata": {},
   "outputs": [],
   "source": [
    "LIST_OF_SEMESTERS = ['semester']"
   ]
  },
  {
   "cell_type": "markdown",
   "id": "58c68464",
   "metadata": {},
   "source": [
    "## Imports"
   ]
  },
  {
   "cell_type": "code",
   "execution_count": 28,
   "id": "ad8f5fff",
   "metadata": {},
   "outputs": [],
   "source": [
    "import os\n",
    "\n",
    "import numpy as np\n",
    "import pandas as pd\n",
    "\n",
    "from tqdm.auto import tqdm\n",
    "from graphs import *"
   ]
  },
  {
   "cell_type": "markdown",
   "id": "81a671b2",
   "metadata": {},
   "source": [
    "## Generate ASTs for Solution Space"
   ]
  },
  {
   "cell_type": "code",
   "execution_count": 29,
   "id": "3aa716e6",
   "metadata": {},
   "outputs": [
    {
     "data": {
      "application/vnd.jupyter.widget-view+json": {
       "model_id": "ff53a603883946d4be09a4fb10a422a5",
       "version_major": 2,
       "version_minor": 0
      },
      "text/plain": [
       "  0%|          | 0/1 [00:00<?, ?it/s]"
      ]
     },
     "metadata": {},
     "output_type": "display_data"
    }
   ],
   "source": [
    "sol_path = INSTRUCTOR_SOLUTIONS\n",
    "sol_trees = {}\n",
    "solutions = {}\n",
    "for file in tqdm(os.listdir(sol_path)):\n",
    "    try:\n",
    "        with open(os.path.join(sol_path, file), 'rb') as f:\n",
    "            program = f.read().decode(\"utf-8-sig\").encode(\"utf-8\")\n",
    "        solutions[file[:-3]] = [program]\n",
    "    except:\n",
    "        print(\"Error while reading instructor solution:\", file)"
   ]
  },
  {
   "cell_type": "code",
   "execution_count": 30,
   "id": "89a044e2",
   "metadata": {},
   "outputs": [],
   "source": [
    "def return_correct_submissions(problemName):\n",
    "    '''\n",
    "    Helper function for filtering a DataFrame for correct student submissions.\n",
    "    '''\n",
    "    return data[(data['Score'] == 1.0) & (data['ProblemName'] == problemName)]['Input'].unique()"
   ]
  },
  {
   "cell_type": "code",
   "execution_count": 31,
   "id": "e08453a4",
   "metadata": {
    "scrolled": true
   },
   "outputs": [
    {
     "data": {
      "application/vnd.jupyter.widget-view+json": {
       "model_id": "ec32f67520cf493a93b6c49666d81dfd",
       "version_major": 2,
       "version_minor": 0
      },
      "text/plain": [
       "  0%|          | 0/1 [00:00<?, ?it/s]"
      ]
     },
     "metadata": {},
     "output_type": "display_data"
    }
   ],
   "source": [
    "solutions = {}\n",
    "for root, dirs, files in os.walk(STUDENT_INTERACTION_DATA):\n",
    "    if len(dirs) > 0:\n",
    "        continue\n",
    "    users = {} \n",
    "    np.random.seed(42)\n",
    "    random_set = None\n",
    "    for file in tqdm(files):\n",
    "        data = pd.read_csv(os.path.join(root, file))\n",
    "        if len(data) <= 0:\n",
    "            continue\n",
    "        for problemName in data['ProblemName'].unique():\n",
    "            problemInput = return_correct_submissions(problemName)\n",
    "            if problemName not in solutions:\n",
    "                solutions[problemName] = []\n",
    "            solutions[problemName].extend(problemInput)\n"
   ]
  },
  {
   "cell_type": "code",
   "execution_count": 32,
   "id": "b7ad4a2e",
   "metadata": {},
   "outputs": [
    {
     "data": {
      "text/plain": [
       "dict_keys([13, 232, 235, 234, 236, 5, 233, 1, 3, 12, 24, 100, 101, 102, 25, 17, 28, 21, 20, 22, 40, 37, 38, 128, 39, 36, 32, 31, 33, 34, 41, 43, 44, 46, 49, 67, 108, 107, 104, 106, 48, 45, 51, 112, 56, 57, 64, 70, 71, 118])"
      ]
     },
     "execution_count": 32,
     "metadata": {},
     "output_type": "execute_result"
    }
   ],
   "source": [
    "solutions.keys()\n"
   ]
  },
  {
   "cell_type": "code",
   "execution_count": 33,
   "id": "5116855d",
   "metadata": {},
   "outputs": [],
   "source": [
    "solutions = pd.read_csv('problem_kc.csv')"
   ]
  },
  {
   "cell_type": "code",
   "execution_count": 34,
   "id": "4127b845",
   "metadata": {},
   "outputs": [],
   "source": [
    "solutions = solutions.drop_duplicates(subset=['ProblemName', 'KC'])"
   ]
  },
  {
   "cell_type": "code",
   "execution_count": 35,
   "id": "6da31bb6",
   "metadata": {},
   "outputs": [
    {
     "data": {
      "text/html": [
       "<div>\n",
       "<style scoped>\n",
       "    .dataframe tbody tr th:only-of-type {\n",
       "        vertical-align: middle;\n",
       "    }\n",
       "\n",
       "    .dataframe tbody tr th {\n",
       "        vertical-align: top;\n",
       "    }\n",
       "\n",
       "    .dataframe thead th {\n",
       "        text-align: right;\n",
       "    }\n",
       "</style>\n",
       "<table border=\"1\" class=\"dataframe\">\n",
       "  <thead>\n",
       "    <tr style=\"text-align: right;\">\n",
       "      <th></th>\n",
       "      <th>KC</th>\n",
       "      <th>ProblemName</th>\n",
       "    </tr>\n",
       "  </thead>\n",
       "  <tbody>\n",
       "    <tr>\n",
       "      <th>0</th>\n",
       "      <td>ClassDefinition</td>\n",
       "      <td>13</td>\n",
       "    </tr>\n",
       "    <tr>\n",
       "      <th>1</th>\n",
       "      <td>PublicClassSpecifier</td>\n",
       "      <td>13</td>\n",
       "    </tr>\n",
       "    <tr>\n",
       "      <th>2</th>\n",
       "      <td>MethodDefinition</td>\n",
       "      <td>13</td>\n",
       "    </tr>\n",
       "    <tr>\n",
       "      <th>3</th>\n",
       "      <td>PublicMethodSpecifier</td>\n",
       "      <td>13</td>\n",
       "    </tr>\n",
       "    <tr>\n",
       "      <th>4</th>\n",
       "      <td>VoidDataType</td>\n",
       "      <td>13</td>\n",
       "    </tr>\n",
       "    <tr>\n",
       "      <th>...</th>\n",
       "      <td>...</td>\n",
       "      <td>...</td>\n",
       "    </tr>\n",
       "    <tr>\n",
       "      <th>590499</th>\n",
       "      <td>ActualMethodParameter</td>\n",
       "      <td>118</td>\n",
       "    </tr>\n",
       "    <tr>\n",
       "      <th>591074</th>\n",
       "      <td>LessEqualExpression</td>\n",
       "      <td>118</td>\n",
       "    </tr>\n",
       "    <tr>\n",
       "      <th>591103</th>\n",
       "      <td>PreIncrementExpression</td>\n",
       "      <td>118</td>\n",
       "    </tr>\n",
       "    <tr>\n",
       "      <th>591993</th>\n",
       "      <td>AndExpression</td>\n",
       "      <td>118</td>\n",
       "    </tr>\n",
       "    <tr>\n",
       "      <th>593138</th>\n",
       "      <td>OrExpression</td>\n",
       "      <td>118</td>\n",
       "    </tr>\n",
       "  </tbody>\n",
       "</table>\n",
       "<p>1910 rows × 2 columns</p>\n",
       "</div>"
      ],
      "text/plain": [
       "                            KC  ProblemName\n",
       "0              ClassDefinition           13\n",
       "1         PublicClassSpecifier           13\n",
       "2             MethodDefinition           13\n",
       "3        PublicMethodSpecifier           13\n",
       "4                 VoidDataType           13\n",
       "...                        ...          ...\n",
       "590499   ActualMethodParameter          118\n",
       "591074     LessEqualExpression          118\n",
       "591103  PreIncrementExpression          118\n",
       "591993           AndExpression          118\n",
       "593138            OrExpression          118\n",
       "\n",
       "[1910 rows x 2 columns]"
      ]
     },
     "execution_count": 35,
     "metadata": {},
     "output_type": "execute_result"
    }
   ],
   "source": [
    "solutions"
   ]
  },
  {
   "cell_type": "code",
   "execution_count": 36,
   "id": "be76714f",
   "metadata": {},
   "outputs": [],
   "source": [
    "solutions = {problemName: [\"|\".join([str(x) for x in solutions[solutions['ProblemName'] == problemName]['KC'].tolist()])] for problemName in solutions['ProblemName'].unique()}\n",
    "# solutions = {problemName: \",\".join([str(x) for x in solutions.loc[solutions['ProblemName'] == problemName].index[0]['KC'].tolist()]) for problemName in solutions['ProblemName'].unique()}\n"
   ]
  },
  {
   "cell_type": "code",
   "execution_count": 37,
   "id": "20d97410",
   "metadata": {},
   "outputs": [
    {
     "data": {
      "text/plain": [
       "['ClassDefinition|PublicClassSpecifier|MethodDefinition|PublicMethodSpecifier|VoidDataType|IntDataType|SimpleVariable|BooleanDataType|IfElseStatement|NotExpression|IfElseIfStatement|LessEqualExpression|ReturnStatement|GreaterExpression|AndExpression|IfStatement|EqualExpression|True|SimpleAssignmentExpression|SubtractExpression|MinusAssignmentExpression|False|GreaterEqualExpression|WhileStatement|LessExpression|AddExpression|AddAssignmentExpression|OrExpression|AutoBoxing|java.lang.Integer|ActualMethodParameter|MultiplyExpression|NotEqualExpression']"
      ]
     },
     "execution_count": 37,
     "metadata": {},
     "output_type": "execute_result"
    }
   ],
   "source": [
    "solutions[13]\n"
   ]
  },
  {
   "cell_type": "code",
   "execution_count": 38,
   "id": "f826a02a",
   "metadata": {},
   "outputs": [
    {
     "name": "stdout",
     "output_type": "stream",
     "text": [
      "[0, 'Thing']\n",
      "└── [0, 'Java']\n",
      "    ├── [0, 'JavaLanguage']\n",
      "    │   ├── [0, 'ProgramStructure']\n",
      "    │   │   ├── [0, 'ProgramElementDefinition']\n",
      "    │   │   │   ├── [0, 'ClassDefinition']\n",
      "    │   │   │   └── [0, 'ClassMemberDefinition']\n",
      "    │   │   │       └── [0, 'MethodDefinition']\n",
      "    │   │   └── [0, 'Modifier']\n",
      "    │   │       └── [0, 'PublicModifier']\n",
      "    │   │           ├── [0, 'PublicClassSpecifier']\n",
      "    │   │           └── [0, 'PublicMethodSpecifier']\n",
      "    │   ├── [0, 'Data']\n",
      "    │   │   ├── [0, 'DataType']\n",
      "    │   │   │   ├── [0, 'VoidDataType']\n",
      "    │   │   │   └── [0, 'SimpleDataType']\n",
      "    │   │   │       ├── [0, 'IntDataType']\n",
      "    │   │   │       └── [0, 'BooleanDataType']\n",
      "    │   │   ├── [0, 'Variable']\n",
      "    │   │   │   └── [0, 'SimpleVariable']\n",
      "    │   │   └── [0, 'Value']\n",
      "    │   │       └── [0, 'SimpleDataTypeValue']\n",
      "    │   │           └── [0, 'BooleanValue']\n",
      "    │   │               ├── [0, 'True']\n",
      "    │   │               └── [0, 'False']\n",
      "    │   ├── [0, 'Statement']\n",
      "    │   │   ├── [0, 'SelectionStatement']\n",
      "    │   │   │   ├── [0, 'IfElseStatement']\n",
      "    │   │   │   ├── [0, 'IfElseIfStatement']\n",
      "    │   │   │   └── [0, 'IfStatement']\n",
      "    │   │   ├── [0, 'JumpStatement']\n",
      "    │   │   │   └── [0, 'ReturnStatement']\n",
      "    │   │   └── [0, 'IterationStatement']\n",
      "    │   │       └── [0, 'WhileStatement']\n",
      "    │   └── [0, 'Expression']\n",
      "    │       ├── [0, 'LogicalExpression']\n",
      "    │       │   ├── [0, 'BooleanExpression']\n",
      "    │       │   │   ├── [0, 'NotExpression']\n",
      "    │       │   │   ├── [0, 'AndExpression']\n",
      "    │       │   │   └── [0, 'OrExpression']\n",
      "    │       │   └── [0, 'RelationalExpression']\n",
      "    │       │       ├── [0, 'LessEqualExpression']\n",
      "    │       │       ├── [0, 'GreaterExpression']\n",
      "    │       │       ├── [0, 'EqualExpression']\n",
      "    │       │       ├── [0, 'GreaterEqualExpression']\n",
      "    │       │       ├── [0, 'LessExpression']\n",
      "    │       │       └── [0, 'NotEqualExpression']\n",
      "    │       ├── [0, 'AssignmentExpression']\n",
      "    │       │   ├── [0, 'SimpleAssignmentExpression']\n",
      "    │       │   └── [0, 'ArithmeticAssignmentExpression']\n",
      "    │       │       └── [0, 'AddAssignmentExpression']\n",
      "    │       ├── [0, 'ArithmeticExpression']\n",
      "    │       │   ├── [0, 'AdditiveExpression']\n",
      "    │       │   │   ├── [0, 'SubtractExpression']\n",
      "    │       │   │   └── [0, 'AddExpression']\n",
      "    │       │   └── [0, 'MultiplicativeExpression']\n",
      "    │       │       └── [0, 'MultiplyExpression']\n",
      "    │       ├── [0, 'TypeCasting']\n",
      "    │       │   └── [0, 'AutoBoxing']\n",
      "    │       └── [0, 'ActualMethodParameter']\n",
      "    └── [0, 'JavaOOP']\n",
      "        └── [0, 'Class']\n",
      "            └── [0, 'JavaStandardLibraryClass']\n",
      "                └── [0, 'WrapperClass']\n",
      "                    └── [0, 'java.lang.Integer']\n"
     ]
    }
   ],
   "source": [
    "print_ast(parse_java(solutions[13][0]))"
   ]
  },
  {
   "cell_type": "code",
   "execution_count": 39,
   "id": "143d7ab5",
   "metadata": {},
   "outputs": [
    {
     "data": {
      "text/plain": [
       "Node(\"/[0, 'Thing']\")"
      ]
     },
     "execution_count": 39,
     "metadata": {},
     "output_type": "execute_result"
    }
   ],
   "source": [
    "parse_java(solutions[13][0])"
   ]
  },
  {
   "cell_type": "code",
   "execution_count": 40,
   "id": "2143a466",
   "metadata": {
    "scrolled": true
   },
   "outputs": [
    {
     "data": {
      "application/vnd.jupyter.widget-view+json": {
       "model_id": "dfb460c7469f4ee5ae5721acc3e2bd29",
       "version_major": 2,
       "version_minor": 0
      },
      "text/plain": [
       "  0%|          | 0/50 [00:00<?, ?it/s]"
      ]
     },
     "metadata": {},
     "output_type": "display_data"
    }
   ],
   "source": [
    "solutions_embedded = {}\n",
    "solutions_traversal = {}\n",
    "tfidf_params = {}\n",
    "for problem in tqdm(solutions):\n",
    "    def parser_handler(content):\n",
    "        try:\n",
    "            return parse_java(content)\n",
    "        except:\n",
    "            print(\"Error while parsing AST - returning empty tree...\")\n",
    "            return Node(\"Module\")\n",
    "    ast_trees = [parser_handler(solution) for solution in solutions[problem]]\n",
    "    tfidf_vectors, all_nodes, idf = compute_tfidf(ast_trees)\n",
    "    solutions_embedded[problem] = tfidf_vectors\n",
    "    solutions_traversal[problem] = [dfs_traversal(tree) for tree in ast_trees]\n",
    "    tfidf_params[problem] = (all_nodes, idf) \n",
    "    "
   ]
  },
  {
   "cell_type": "code",
   "execution_count": 41,
   "id": "b613ef9a",
   "metadata": {},
   "outputs": [
    {
     "data": {
      "text/plain": [
       "{13: ['ClassDefinition|PublicClassSpecifier|MethodDefinition|PublicMethodSpecifier|VoidDataType|IntDataType|SimpleVariable|BooleanDataType|IfElseStatement|NotExpression|IfElseIfStatement|LessEqualExpression|ReturnStatement|GreaterExpression|AndExpression|IfStatement|EqualExpression|True|SimpleAssignmentExpression|SubtractExpression|MinusAssignmentExpression|False|GreaterEqualExpression|WhileStatement|LessExpression|AddExpression|AddAssignmentExpression|OrExpression|AutoBoxing|java.lang.Integer|ActualMethodParameter|MultiplyExpression|NotEqualExpression'],\n",
       " 232: ['ClassDefinition|PublicClassSpecifier|MethodDefinition|PublicMethodSpecifier|VoidDataType|StringVariable|StringDataType|SimpleVariable|IntDataType|BooleanDataType|IfElseStatement|EqualExpression|True|OrExpression|ReturnStatement|StringLiteral|IfElseIfStatement|GreaterExpression|AndExpression|LessExpression|False|IfStatement|GreaterEqualExpression|NotExpression|WhileStatement|LessEqualExpression|StringInitializationStatement|SimpleAssignmentExpression|NotEqualExpression|nullInitialization|java.lang.String.equals|ObjectMethodInvocation|ActualMethodParameter|StringCreationStatement|StringConstructorCall|SwitchStatement|CaseClause|AddExpression'],\n",
       " 235: ['ClassDefinition|PublicClassSpecifier|MethodDefinition|PublicMethodSpecifier|VoidDataType|IntDataType|SimpleVariable|IfElseIfStatement|LessEqualExpression|OrExpression|ReturnStatement|IfElseStatement|GreaterEqualExpression|IfStatement|AndExpression|GreaterExpression|WhileStatement|LessExpression|SimpleAssignmentExpression|java.lang.Math.min|ActualMethodParameter|java.lang.Math.max|AddExpression|NotExpression|EqualExpression'],\n",
       " 234: ['ClassDefinition|PublicClassSpecifier|MethodDefinition|PublicMethodSpecifier|VoidDataType|BooleanDataType|SimpleVariable|IntDataType|IfElseStatement|EqualExpression|True|ReturnStatement|GreaterEqualExpression|AndExpression|LessEqualExpression|False|IfStatement|NotExpression|WhileStatement|LessExpression|IfElseIfStatement|GreaterExpression|OrExpression|SimpleAssignmentExpression|java.lang.Boolean|ObjectVariable|NotEqualExpression|AddExpression|StringVariable|StringDataType|StringLiteral|SubtractExpression|java.lang.Math.abs|ActualMethodParameter|ModulusExpression|MultiplyExpression|java.lang.String.equals|ObjectMethodInvocation|java.lang.String.substring|java.lang.String.length|StringAddition|PostIncrementExpression'],\n",
       " 236: ['ClassDefinition|PublicClassSpecifier|MethodDefinition|PublicMethodSpecifier|VoidDataType|IntDataType|SimpleVariable|IfElseIfStatement|EqualExpression|AndExpression|ReturnStatement|OrExpression|IfElseStatement|NotEqualExpression|IfStatement|WhileStatement|SimpleAssignmentExpression|BooleanDataType|ArrayInitializationStatement|ArrayInitializer|ArrayVariable|ArrayDataType|ForStatement|LessExpression|PostIncrementExpression|ArrayElement|AddExpression|SwitchStatement|CaseClause|BreakStatement|NotExpression|MultiplyExpression|SubtractExpression|AddAssignmentExpression'],\n",
       " 5: ['ClassDefinition|PublicClassSpecifier|MethodDefinition|PublicMethodSpecifier|VoidDataType|BooleanDataType|SimpleVariable|IfElseIfStatement|EqualExpression|True|ReturnStatement|False|IfElseStatement|OrExpression|AndExpression|IfStatement|NotExpression|WhileStatement|SimpleAssignmentExpression|NotEqualExpression'],\n",
       " 233: ['ClassDefinition|PublicClassSpecifier|MethodDefinition|PublicMethodSpecifier|VoidDataType|BooleanDataType|SimpleVariable|IntDataType|IfElseIfStatement|EqualExpression|OrExpression|ReturnStatement|True|IfElseStatement|AddExpression|java.lang.Math.abs|ActualMethodParameter|SubtractExpression|False|IfStatement|SimpleAssignmentExpression|AndExpression|MultiplyExpression'],\n",
       " 1: ['ClassDefinition|PublicClassSpecifier|MethodDefinition|PublicMethodSpecifier|VoidDataType|IntDataType|SimpleVariable|SimpleAssignmentExpression|AddExpression|IfElseStatement|GreaterEqualExpression|AndExpression|LessEqualExpression|ReturnStatement|LessExpression|OrExpression|IfStatement|GreaterExpression|IfElseIfStatement|ObjectMethodInvocation|ActualMethodParameter|EqualExpression'],\n",
       " 3: ['ClassDefinition|PublicClassSpecifier|MethodDefinition|PublicMethodSpecifier|VoidDataType|BooleanDataType|SimpleVariable|IntDataType|IfElseStatement|EqualExpression|True|LessEqualExpression|OrExpression|GreaterEqualExpression|ReturnStatement|False|AndExpression|IfElseIfStatement|IfStatement|NotExpression|GreaterExpression|LessExpression|SimpleAssignmentExpression|WhileStatement|NotEqualExpression|XORExpression|NestedForLoops|ForStatement|PostIncrementExpression'],\n",
       " 12: ['ClassDefinition|PublicClassSpecifier|MethodDefinition|PublicMethodSpecifier|VoidDataType|BooleanDataType|SimpleVariable|IntDataType|IfElseStatement|EqualExpression|True|GreaterEqualExpression|AndExpression|LessEqualExpression|ReturnStatement|False|IfElseIfStatement|IfStatement|NotExpression|LessExpression|OrExpression|GreaterExpression|SimpleAssignmentExpression|AddAssignmentExpression|WhileStatement|NotEqualExpression|PostIncrementExpression|AddExpression|MultiplyExpression'],\n",
       " 24: ['ClassDefinition|PublicClassSpecifier|MethodDefinition|PublicMethodSpecifier|VoidDataType|IntDataType|SimpleVariable|IfElseIfStatement|GreaterExpression|IfElseStatement|ReturnStatement|IfStatement|AndExpression|SubtractExpression|LessExpression|LessEqualExpression|SimpleAssignmentExpression|OrExpression|GreaterEqualExpression|java.lang.Math.max|ActualMethodParameter|NotExpression|java.lang.Math.abs|EqualExpression|ModulusExpression|WhileStatement|BooleanDataType|NotEqualExpression'],\n",
       " 100: ['ClassDefinition|PublicClassSpecifier|MethodDefinition|PublicMethodSpecifier|VoidDataType|IntDataType|SimpleVariable|ReturnStatement|ObjectMethodInvocation|ActualMethodParameter|AddExpression|IfElseStatement|ModulusExpression|GreaterEqualExpression|SimpleAssignmentExpression|SubtractExpression|AddAssignmentExpression|MinusAssignmentExpression|DivideExpression|LessExpression|MultiplyExpression|IfStatement|GreaterExpression|WhileStatement|DoubleDataType|ExplicitTypeCasting|IfElseIfStatement|AndExpression|EqualExpression|NotEqualExpression|PostIncrementExpression|StringVariable|StringDataType|java.lang.String.length|CharDataType|java.lang.String.charAt|java.lang.Math.abs'],\n",
       " 101: ['ClassDefinition|PublicClassSpecifier|MethodDefinition|PublicMethodSpecifier|VoidDataType|IntDataType|SimpleVariable|IfStatement|GreaterExpression|AddExpression|MultiplyExpression|ReturnStatement|LessExpression|ModulusExpression|EqualExpression|AndExpression|SimpleAssignmentExpression|IfElseStatement|MinusAssignmentExpression|WhileStatement|GreaterEqualExpression|NotEqualExpression|SubtractExpression|LessEqualExpression|OrExpression|DivideExpression|PostDecrementExpression|ForStatement|IfElseIfStatement|PostIncrementExpression|AddAssignmentExpression|BooleanDataType|False|NestedForLoops|True|java.lang.Math.floor|ActualMethodParameter|java.lang.Math.round|java.lang.Math.min|java.lang.Math.abs'],\n",
       " 102: ['ClassDefinition|PublicClassSpecifier|MethodDefinition|PublicMethodSpecifier|VoidDataType|StringVariable|StringDataType|SimpleVariable|IfElseStatement|java.lang.String.length|EqualExpression|ReturnStatement|StringLiteral|LessExpression|SimpleAssignmentExpression|java.lang.String.substring|ObjectMethodInvocation|ActualMethodParameter|SubtractExpression|java.lang.String.equals|IfStatement|GreaterEqualExpression|AndExpression|IfElseIfStatement|GreaterExpression|IntDataType|NotExpression|StringInitializationStatement|NotEqualExpression|LessEqualExpression|OrExpression|java.lang.String.charAt|java.lang.System.out.println|True|ForStatement|PostIncrementExpression|AddExpression'],\n",
       " 25: ['ClassDefinition|PublicClassSpecifier|MethodDefinition|PublicMethodSpecifier|VoidDataType|BooleanDataType|SimpleVariable|IntDataType|SimpleAssignmentExpression|IfStatement|GreaterExpression|AndExpression|IfElseStatement|EqualExpression|NotEqualExpression|ReturnStatement|False|SubtractExpression|True|IfElseIfStatement|LessExpression|OrExpression|java.lang.Math.abs|ActualMethodParameter|AddExpression|GreaterEqualExpression|LessEqualExpression|WhileStatement|PostIncrementExpression|ObjectMethodInvocation|java.lang.Math.max|java.lang.Math.min|MultiplyExpression|DivideExpression|ModulusExpression|ArrayInitializationStatement|ArrayInitializer|ArrayVariable|ArrayDataType|ArrayElement|ArrayLength|ForStatement|NestedForLoops|PostDecrementExpression|NotExpression|MinusAssignmentExpression'],\n",
       " 17: ['ClassDefinition|PublicClassSpecifier|MethodDefinition|PublicMethodSpecifier|VoidDataType|IntDataType|SimpleVariable|IfStatement|EqualExpression|AndExpression|ReturnStatement|NotEqualExpression|IfElseIfStatement|IfElseStatement|SimpleAssignmentExpression|OrExpression|AddExpression|DivideExpression|NotExpression|ArrayCreationStatement|ArrayVariable|ArrayDataType|ArrayElement|ForStatement|NestedForLoops|LessExpression|PostIncrementExpression'],\n",
       " 28: ['ClassDefinition|PublicClassSpecifier|MethodDefinition|PublicMethodSpecifier|VoidDataType|StringVariable|StringDataType|SimpleVariable|StringInitializationStatement|SimpleAssignmentExpression|StringLiteral|IfElseIfStatement|java.lang.String.length|EqualExpression|AddAssignmentExpression|IfElseStatement|java.lang.String.substring|ObjectMethodInvocation|ActualMethodParameter|ReturnStatement|LessExpression|IntDataType|WhileStatement|SubtractExpression|AddExpression|PostIncrementExpression|StringAddition|GreaterEqualExpression|IfStatement|NotEqualExpression|java.lang.String.charAt|NestedForLoops|ForStatement|java.lang.Math.abs|AndExpression|GreaterExpression|nullInitialization|DoStatement|StringCreationStatement|StringConstructorCall|LessEqualExpression'],\n",
       " 21: ['ClassDefinition|PublicClassSpecifier|MethodDefinition|PublicMethodSpecifier|VoidDataType|IntDataType|SimpleVariable|SimpleAssignmentExpression|IfStatement|EqualExpression|AddExpression|ReturnStatement|IfElseIfStatement|IfElseStatement|NotEqualExpression|AddAssignmentExpression|AndExpression|ArrayCreationStatement|ArrayVariable|ArrayDataType|ArrayElement|ForStatement|LessExpression|PostIncrementExpression|BooleanDataType|False|True|NotExpression|OrExpression|SubtractExpression'],\n",
       " 20: ['ClassDefinition|PublicClassSpecifier|MethodDefinition|PublicMethodSpecifier|VoidDataType|IntDataType|SimpleVariable|SimpleAssignmentExpression|IfStatement|EqualExpression|AndExpression|ReturnStatement|AddExpression|IfElseIfStatement|IfElseStatement|OrExpression|NotEqualExpression|AddAssignmentExpression|SubtractExpression|NotExpression|MultiplyExpression|BooleanDataType|ArrayCreationStatement|ArrayVariable|ArrayDataType|ArrayElement|ForStatement|NestedForLoops|LessExpression|PostIncrementExpression'],\n",
       " 22: ['ClassDefinition|PublicClassSpecifier|MethodDefinition|PublicMethodSpecifier|VoidDataType|IntDataType|SimpleVariable|ReturnStatement|ActualMethodParameter|AddExpression|IfElseStatement|GreaterExpression|AndExpression|LessExpression|NotEqualExpression|IfStatement|OrExpression|EqualExpression|GreaterEqualExpression|LessEqualExpression|IfElseIfStatement|SimpleAssignmentExpression|ObjectMethodInvocation|AddAssignmentExpression|SwitchStatement|CaseClause|DefaultClause|SubtractExpression|NotExpression'],\n",
       " 40: ['ClassDefinition|PublicClassSpecifier|MethodDefinition|PublicMethodSpecifier|VoidDataType|StringVariable|StringDataType|SimpleVariable|IntDataType|SimpleAssignmentExpression|ObjectMethodInvocation|ActualMethodParameter|StringLiteral|IfStatement|EqualExpression|ReturnStatement|java.lang.String.substring|AddExpression|IfElseStatement|NotEqualExpression|AndExpression|java.lang.String.length|LessEqualExpression|GreaterExpression|NestedForLoops|ForStatement|LessExpression|PostIncrementExpression|PostDecrementExpression|SubtractExpression|java.lang.String.equals|GreaterEqualExpression|NotExpression|StringInitializationStatement|BooleanDataType|False|True|IfElseIfStatement|java.lang.String.charAt|OrExpression|WhileStatement|StringAddition|AddAssignmentExpression|StringCreationStatement|StringConstructorCall|StringLiteralMethodInvocation|DivideExpression'],\n",
       " 37: ['ClassDefinition|PublicClassSpecifier|MethodDefinition|PublicMethodSpecifier|VoidDataType|BooleanDataType|SimpleVariable|StringVariable|StringDataType|IfStatement|java.lang.String.length|LessExpression|SimpleAssignmentExpression|ObjectMethodInvocation|ReturnStatement|java.lang.String.equals|ActualMethodParameter|java.lang.String.substring|SubtractExpression|OrExpression|IfElseStatement|True|False|IfElseIfStatement|IntDataType|GreaterEqualExpression|EqualExpression|AndExpression|ForStatement|NestedForLoops|PostIncrementExpression|java.lang.String.charAt|StringInitializationStatement|StringLiteral|LessEqualExpression|GreaterExpression|java.lang.System.out.println|java.lang.Math.abs|PostDecrementExpression|AddExpression|ExplicitTypeCasting|java.lang.String.equalsIgnoreCase|NotEqualExpression'],\n",
       " 38: ['ClassDefinition|PublicClassSpecifier|MethodDefinition|PublicMethodSpecifier|VoidDataType|BooleanDataType|SimpleVariable|StringVariable|StringDataType|IfStatement|java.lang.String.length|GreaterEqualExpression|AndExpression|java.lang.String.equals|ObjectMethodInvocation|ActualMethodParameter|java.lang.String.substring|StringLiteral|ReturnStatement|True|IntDataType|SimpleAssignmentExpression|ForStatement|LessExpression|SubtractExpression|PostIncrementExpression|java.lang.String.charAt|NotEqualExpression|AddExpression|False|IfElseIfStatement|NestedForLoops|IfElseStatement|EqualExpression|OrExpression|NotExpression|WhileStatement|LessEqualExpression|StringLiteralMethodInvocation|GreaterExpression|StringInitializationStatement|AutoBoxing|java.lang.Boolean|CharDataType|AddAssignmentExpression|StringAddition|ObjectVariable|PostDecrementExpression|java.lang.String.replace'],\n",
       " 128: ['ClassDefinition|PublicClassSpecifier|MethodDefinition|PublicMethodSpecifier|VoidDataType|BooleanDataType|SimpleVariable|StringVariable|StringDataType|IntDataType|SimpleAssignmentExpression|java.lang.String.length|ForStatement|LessExpression|SubtractExpression|PostIncrementExpression|IfStatement|java.lang.String.charAt|ObjectMethodInvocation|ActualMethodParameter|EqualExpression|AndExpression|AddExpression|ReturnStatement|True|False|NestedForLoops|GreaterEqualExpression|LessEqualExpression|IfElseStatement|StringLiteral|IfElseIfStatement|java.lang.String.substring|java.lang.String.equals|GreaterExpression|CharDataType|WhileStatement|NotExpression|NotEqualExpression|AddAssignmentExpression|OrExpression|AutoBoxing|java.lang.Boolean|PostDecrementExpression|StringInitializationStatement|ArrayInitializationStatement|ArrayInitializer|ArrayVariable|ForEachStatement|ArrayLength|ArrayElement'],\n",
       " 39: ['ClassDefinition|PublicClassSpecifier|MethodDefinition|PublicMethodSpecifier|VoidDataType|BooleanDataType|SimpleVariable|StringVariable|StringDataType|IntDataType|SimpleAssignmentExpression|java.lang.String.length|IfElseIfStatement|NotExpression|ObjectMethodInvocation|ActualMethodParameter|StringLiteral|ReturnStatement|True|IfElseStatement|False|ForStatement|LessExpression|PostIncrementExpression|IfStatement|java.lang.String.charAt|EqualExpression|AndExpression|java.lang.String.substring|AddExpression|NestedForLoops|NotEqualExpression|SubtractExpression|GreaterEqualExpression|PostDecrementExpression|CharDataType|GreaterExpression|OrExpression|AutoBoxing|java.lang.Boolean|WhileStatement|java.lang.String.equals|LessEqualExpression|StringAddition|MinusAssignmentExpression|StringLiteralMethodInvocation|StringCreationStatement|StringConstructorCall|StringInitializationStatement'],\n",
       " 36: ['ClassDefinition|PublicClassSpecifier|MethodDefinition|PublicMethodSpecifier|VoidDataType|IntDataType|SimpleVariable|StringVariable|StringDataType|SimpleAssignmentExpression|java.lang.String.length|ForStatement|LessExpression|SubtractExpression|PostIncrementExpression|IfStatement|java.lang.String.equals|ObjectMethodInvocation|ActualMethodParameter|java.lang.String.substring|AddExpression|StringLiteral|AndExpression|java.lang.String.charAt|EqualExpression|ReturnStatement|WhileStatement|IfElseStatement|AddAssignmentExpression|StringLiteralMethodInvocation|StringInitializationStatement|LessEqualExpression|CharDataType|IfElseIfStatement|GreaterExpression|NotExpression|OrExpression|NotEqualExpression|StringAddition|BooleanDataType|NestedForLoops|GreaterEqualExpression|java.lang.System.out.println|ArrayDataType|ForEachStatement|ArrayLength|ArrayElement|False|True|PreIncrementExpression'],\n",
       " 32: ['ClassDefinition|PublicClassSpecifier|MethodDefinition|PublicMethodSpecifier|VoidDataType|StringVariable|StringDataType|SimpleVariable|StringInitializationStatement|SimpleAssignmentExpression|StringLiteral|IntDataType|java.lang.String.length|WhileStatement|LessExpression|IfElseStatement|ObjectMethodInvocation|ActualMethodParameter|java.lang.String.substring|AddExpression|StringAddition|ReturnStatement|ObjectCreationStatement|ConstructorCall|NotEqualExpression|PostIncrementExpression|ForStatement|SubtractExpression|IfElseIfStatement|GreaterEqualExpression|java.lang.String.equals|AddAssignmentExpression|LessEqualExpression|EqualExpression|AndExpression|java.lang.String.charAt|GreaterExpression|NestedForLoops|IfStatement|StringCreationStatement|StringConstructorCall|BooleanDataType|False|NotExpression|java.lang.Math.min|MinusAssignmentExpression|PostDecrementExpression|java.lang.String.replace|True|OrExpression'],\n",
       " 31: ['ClassDefinition|PublicClassSpecifier|MethodDefinition|PublicMethodSpecifier|VoidDataType|StringVariable|StringDataType|SimpleVariable|IntDataType|SimpleAssignmentExpression|java.lang.String.length|StringInitializationStatement|StringLiteral|ForStatement|LessExpression|PostIncrementExpression|AddExpression|java.lang.String.substring|ObjectMethodInvocation|ActualMethodParameter|SubtractExpression|ReturnStatement|ObjectCreationStatement|ConstructorCall|MultiplyExpression|IfStatement|NestedForLoops|EqualExpression|IfElseStatement|AddAssignmentExpression|java.lang.String.charAt|StringCreationStatement|StringConstructorCall|WhileStatement|LessEqualExpression|GreaterExpression|PostDecrementExpression|GreaterEqualExpression|CharDataType|NotEqualExpression|XORExpression|IfElseIfStatement|AndExpression|java.lang.String.equals'],\n",
       " 33: ['ClassDefinition|PublicClassSpecifier|MethodDefinition|PublicMethodSpecifier|VoidDataType|StringVariable|StringDataType|SimpleVariable|IntDataType|SimpleAssignmentExpression|java.lang.String.length|StringInitializationStatement|StringLiteral|IfElseIfStatement|NestedForLoops|EqualExpression|ForStatement|LessExpression|PostIncrementExpression|AddExpression|java.lang.String.charAt|ObjectMethodInvocation|ActualMethodParameter|IfElseStatement|GreaterExpression|java.lang.String.substring|ReturnStatement|ObjectCreationStatement|ConstructorCall|AndExpression|GreaterEqualExpression|IfStatement|java.lang.Math.max|LessEqualExpression|SubtractExpression|AddAssignmentExpression|WhileStatement|java.lang.Math.min|NotEqualExpression|StringCreationStatement|StringConstructorCall|PostDecrementExpression|OrExpression|ArrayDataType|CharDataType|MultiplyExpression|ArrayLength|DivideExpression|ArrayElement|BooleanDataType|False|True|StringAddition|java.lang.String.equals'],\n",
       " 34: ['ClassDefinition|PublicClassSpecifier|MethodDefinition|PublicMethodSpecifier|VoidDataType|StringVariable|StringDataType|SimpleVariable|StringInitializationStatement|SimpleAssignmentExpression|StringLiteral|IntDataType|java.lang.String.length|IfStatement|LessExpression|ReturnStatement|ForStatement|PostIncrementExpression|IfElseStatement|java.lang.String.charAt|ObjectMethodInvocation|ActualMethodParameter|EqualExpression|AndExpression|AddExpression|StringAddition|SubtractExpression|CharDataType|ObjectCreationStatement|ConstructorCall|WhileStatement|AddAssignmentExpression|NotExpression|java.lang.String.substring|BooleanDataType|False|True|NotEqualExpression|GreaterExpression|java.lang.String.equals|IfElseIfStatement|StringCreationStatement|StringConstructorCall|NestedForLoops|GreaterEqualExpression|java.lang.String.replace|LessEqualExpression|OrExpression|ArrayCreationStatement|ArrayVariable|ArrayDataType|ArrayElement|PostDecrementExpression'],\n",
       " 41: ['ClassDefinition|PublicClassSpecifier|MethodDefinition|PublicMethodSpecifier|VoidDataType|IntDataType|SimpleVariable|ArrayDataType|SimpleAssignmentExpression|ForStatement|LessExpression|PostIncrementExpression|AddAssignmentExpression|ArrayElement|ReturnStatement|AddExpression|ArrayLength|ArrayInitializationStatement|ArrayInitializer|ArrayVariable|ForEachStatement|WhileStatement|IfElseStatement|EqualExpression|LessEqualExpression|SubtractExpression'],\n",
       " 43: ['ClassDefinition|PublicClassSpecifier|MethodDefinition|PublicMethodSpecifier|VoidDataType|ArrayDataType|IntDataType|SimpleVariable|IfElseStatement|ArrayLength|LessExpression|SimpleAssignmentExpression|GreaterEqualExpression|ArrayElement|ForStatement|PostIncrementExpression|ReturnStatement|IfElseIfStatement|ArrayInitializationStatement|ArrayInitializer|ArrayVariable|GreaterExpression|IfStatement|EqualExpression|ArrayCreationStatement|NestedForLoops|ForEachStatement|LessEqualExpression|AndExpression|AddExpression|NotEqualExpression|BooleanDataType'],\n",
       " 44: ['ClassDefinition|PublicClassSpecifier|MethodDefinition|PublicMethodSpecifier|VoidDataType|IntDataType|SimpleVariable|ArrayInitializationStatement|ArrayInitializer|ArrayVariable|ArrayDataType|SimpleAssignmentExpression|ForEachStatement|IfStatement|ModulusExpression|EqualExpression|AddExpression|ReturnStatement|ForStatement|LessExpression|ArrayLength|PostIncrementExpression|ArrayElement|AddAssignmentExpression|java.lang.Integer|NotEqualExpression|IfElseStatement|SubtractExpression|LessEqualExpression|OrExpression|MinusAssignmentExpression|WhileStatement|PreIncrementExpression|IfElseIfStatement'],\n",
       " 46: ['ClassDefinition|PublicClassSpecifier|MethodDefinition|PublicMethodSpecifier|VoidDataType|BooleanDataType|SimpleVariable|ArrayDataType|IntDataType|SimpleAssignmentExpression|IfElseStatement|NestedForLoops|ArrayLength|GreaterExpression|ForStatement|LessExpression|SubtractExpression|PostIncrementExpression|IfStatement|ArrayElement|EqualExpression|OrExpression|AddExpression|AddAssignmentExpression|ReturnStatement|True|False|NotEqualExpression|AndExpression|NotExpression|IfElseIfStatement|GreaterEqualExpression|LessEqualExpression|WhileStatement|nan|AutoBoxing|java.lang.Boolean|ArrayCreationStatement|ArrayVariable'],\n",
       " 49: ['ClassDefinition|PublicClassSpecifier|MethodDefinition|PublicMethodSpecifier|VoidDataType|IntDataType|SimpleVariable|ArrayDataType|SimpleAssignmentExpression|IfElseStatement|ArrayLength|EqualExpression|ReturnStatement|ForStatement|LessExpression|PostIncrementExpression|ArrayElement|AddAssignmentExpression|IfElseIfStatement|NotEqualExpression|IfStatement|GreaterExpression|AndExpression|SubtractExpression|AddExpression|NotExpression|OrExpression|NestedForLoops|WhileStatement|LessEqualExpression|ForEachStatement|nan|BooleanDataType|False|True|ArrayInitializationStatement|ArrayInitializer|ArrayVariable|MinusAssignmentExpression|java.lang.System.out.println|ActualMethodParameter|java.lang.String.equals|ObjectMethodInvocation'],\n",
       " 67: ['ClassDefinition|PublicClassSpecifier|MethodDefinition|PublicMethodSpecifier|VoidDataType|BooleanDataType|SimpleVariable|ArrayDataType|IntDataType|SimpleAssignmentExpression|ArrayLength|ForStatement|LessExpression|PostIncrementExpression|SubtractExpression|AddExpression|IfElseIfStatement|ArrayElement|EqualExpression|AndExpression|ReturnStatement|True|IfStatement|False|LessEqualExpression|GreaterExpression|OrExpression|GreaterEqualExpression|NotEqualExpression|IfElseStatement|WhileStatement|NotExpression|NestedForLoops|AutoBoxing|java.lang.Boolean'],\n",
       " 108: ['ClassDefinition|PublicClassSpecifier|MethodDefinition|PublicMethodSpecifier|VoidDataType|ArrayDataType|IntDataType|SimpleVariable|SimpleAssignmentExpression|ForStatement|LessExpression|ArrayLength|SubtractExpression|PostIncrementExpression|IfStatement|NestedForLoops|ArrayElement|EqualExpression|AndExpression|AddExpression|NotEqualExpression|NotExpression|OrExpression|GreaterExpression|ReturnStatement|PreIncrementExpression|WhileStatement|AddAssignmentExpression|IfElseIfStatement|ArrayCreationStatement|ArrayVariable|IfElseStatement|GreaterEqualExpression|ArrayInitializationStatement|ArrayInitializer|PreDecrementExpression|ObjectMethodInvocation|ActualMethodParameter|PostDecrementExpression|LessEqualExpression|java.lang.String.equals'],\n",
       " 107: ['ClassDefinition|PublicClassSpecifier|MethodDefinition|PublicMethodSpecifier|VoidDataType|IntDataType|SimpleVariable|ArrayDataType|SimpleAssignmentExpression|WhileStatement|LessExpression|ArrayLength|ArrayElement|PostIncrementExpression|AndExpression|EqualExpression|IfStatement|GreaterExpression|ReturnStatement|BooleanDataType|False|ForStatement|SubtractExpression|IfElseIfStatement|AddExpression|NotExpression|True|AddAssignmentExpression|NotEqualExpression|IfElseStatement|GreaterEqualExpression|NestedForLoops|OrExpression|AutoBoxing|java.lang.Boolean|PostDecrementExpression'],\n",
       " 104: ['ClassDefinition|PublicClassSpecifier|MethodDefinition|PublicMethodSpecifier|VoidDataType|ArrayDataType|IntDataType|SimpleVariable|SimpleAssignmentExpression|ArrayLength|SubtractExpression|ForStatement|GreaterEqualExpression|PostDecrementExpression|IfStatement|ArrayElement|ModulusExpression|NotEqualExpression|AndExpression|EqualExpression|ReturnStatement|LessExpression|PostIncrementExpression|NestedForLoops|AddExpression|ActualMethodParameter|GreaterExpression|LessEqualExpression|WhileStatement|ArrayCreationStatement|ArrayVariable|IfElseStatement|ObjectMethodInvocation|java.lang.Math.max|BooleanDataType|True|False|NotExpression|IfElseIfStatement|AddAssignmentExpression'],\n",
       " 106: ['ClassDefinition|PublicClassSpecifier|MethodDefinition|PublicMethodSpecifier|VoidDataType|BooleanDataType|SimpleVariable|ArrayDataType|IntDataType|SimpleAssignmentExpression|ForStatement|LessExpression|PostIncrementExpression|IfStatement|ArrayElement|NotEqualExpression|ArrayLength|SubtractExpression|AddExpression|ReturnStatement|False|True|ArrayCreationStatement|ArrayVariable|AddAssignmentExpression|EqualExpression|IfElseStatement|GreaterExpression|PostDecrementExpression|AndExpression|NotExpression|IfElseIfStatement|WhileStatement|StringInitializationStatement|StringVariable|StringDataType|StringLiteral|NestedForLoops|ObjectMethodInvocation|ActualMethodParameter|java.lang.System.out.println|java.lang.String.equals|GreaterEqualExpression|ModulusExpression|DivideExpression|OrExpression|AutoBoxing|java.lang.Boolean|LessEqualExpression'],\n",
       " 48: ['ClassDefinition|PublicClassSpecifier|MethodDefinition|PublicMethodSpecifier|VoidDataType|ArrayDataType|IntDataType|SimpleVariable|ArrayCreationStatement|ArrayVariable|SimpleAssignmentExpression|ArrayLength|ForStatement|LessExpression|PostIncrementExpression|IfElseStatement|ArrayElement|EqualExpression|ReturnStatement|IfStatement|NotEqualExpression|SubtractExpression|PostDecrementExpression|NestedForLoops|AddExpression|WhileStatement|AndExpression|AddAssignmentExpression|BooleanDataType|False|GreaterExpression|ModulusExpression|ObjectMethodInvocation|ActualMethodParameter|NotExpression'],\n",
       " 45: ['ClassDefinition|PublicClassSpecifier|MethodDefinition|PublicMethodSpecifier|VoidDataType|IntDataType|SimpleVariable|ArrayDataType|SimpleAssignmentExpression|ForStatement|LessExpression|ArrayLength|PostIncrementExpression|IfElseStatement|ArrayElement|NotEqualExpression|AddAssignmentExpression|WhileStatement|ReturnStatement|BooleanDataType|False|IfElseIfStatement|IfStatement|EqualExpression|True|AddExpression|ArrayInitializationStatement|ArrayInitializer|ArrayVariable|ForEachStatement|NotExpression|AndExpression|NestedForLoops|GreaterExpression|SubtractExpression|LessEqualExpression|MultiplyExpression|AutoBoxing|java.lang.Boolean|PreIncrementExpression|PostDecrementExpression|MinusAssignmentExpression|nan'],\n",
       " 51: ['ClassDefinition|PublicClassSpecifier|MethodDefinition|PublicMethodSpecifier|VoidDataType|ArrayDataType|IntDataType|SimpleVariable|BooleanDataType|SimpleAssignmentExpression|False|ForStatement|LessExpression|ArrayLength|PostIncrementExpression|IfStatement|ArrayElement|ModulusExpression|EqualExpression|IfElseStatement|NotExpression|True|NotEqualExpression|AndExpression|ReturnStatement|SubtractExpression|AddExpression|NestedForLoops|WhileStatement|PostDecrementExpression|IfElseIfStatement|GreaterExpression|ArrayCreationStatement|ArrayVariable|LessEqualExpression|GreaterEqualExpression|AutoBoxing|java.lang.Boolean|PreIncrementExpression|ForEachStatement|OrExpression'],\n",
       " 112: ['ClassDefinition|PublicClassSpecifier|MethodDefinition|PublicMethodSpecifier|VoidDataType|ArrayDataType|IntDataType|SimpleVariable|ArrayCreationStatement|ArrayVariable|SimpleAssignmentExpression|MultiplyExpression|AddExpression|DivideExpression|ForStatement|NestedForLoops|LessEqualExpression|PreIncrementExpression|ArrayElement|PostIncrementExpression|ReturnStatement|LessExpression|AddAssignmentExpression|ArrayLength|PostDecrementExpression|WhileStatement|ObjectMethodInvocation|ActualMethodParameter|IfElseStatement|IfStatement|GreaterExpression|EqualExpression|ModulusExpression|AndExpression|NotEqualExpression|ExplicitTypeCasting|SubtractExpression|GreaterEqualExpression'],\n",
       " 56: ['ClassDefinition|PublicClassSpecifier|MethodDefinition|PublicMethodSpecifier|VoidDataType|IntDataType|SimpleVariable|ArrayDataType|SimpleAssignmentExpression|ArrayElement|ForStatement|LessExpression|ArrayLength|PostIncrementExpression|AddAssignmentExpression|IfStatement|GreaterExpression|ReturnStatement|SubtractExpression|AddExpression|DivideExpression|IfElseIfStatement|ForEachStatement|java.lang.Math.min|ActualMethodParameter|java.lang.Math.max|MinusAssignmentExpression|GreaterEqualExpression|NotEqualExpression|AndExpression|ArrayCreationStatement|ArrayVariable|NestedForLoops|PostDecrementExpression|EqualExpression|OrExpression|DivideAssignmentExpression|LessEqualExpression|IfElseStatement|ArrayInitializationStatement|ArrayInitializer|PreIncrementExpression|BooleanDataType|False|ExplicitTypeCasting|True|MultiplyExpression|ConstantInvocation'],\n",
       " 57: ['ClassDefinition|PublicClassSpecifier|MethodDefinition|PublicMethodSpecifier|VoidDataType|ArrayDataType|IntDataType|SimpleVariable|ArrayCreationStatement|ArrayVariable|SimpleAssignmentExpression|ForStatement|LessExpression|PostIncrementExpression|ArrayElement|ReturnStatement|ArrayLength|AddExpression|BooleanDataType|True|IfStatement|NotEqualExpression|AndExpression|False|IfElseStatement|EqualExpression|LessEqualExpression|SubtractExpression|AddAssignmentExpression|PreIncrementExpression|ActualMethodParameter|java.lang.System.out.println|StringLiteral|StringDataType|StringAddition|java.lang.System.out.print'],\n",
       " 64: ['ClassDefinition|PublicClassSpecifier|MethodDefinition|PublicMethodSpecifier|VoidDataType|ArrayDataType|SimpleVariable|IntDataType|SimpleAssignmentExpression|SubtractExpression|ArrayCreationStatement|ArrayVariable|ForStatement|LessExpression|PostIncrementExpression|BooleanDataType|ModulusExpression|EqualExpression|IfElseIfStatement|AndExpression|ArrayElement|StringLiteral|StringDataType|IfElseStatement|ObjectMethodInvocation|ActualMethodParameter|ReturnStatement|ArrayLength|AddExpression|IfStatement|GreaterExpression|GreaterEqualExpression|NotEqualExpression|StringVariable|StringInitializationStatement|MultiplyExpression|StringCreationStatement|StringConstructorCall|java.lang.Integer|StringAddition|PreIncrementExpression|OrExpression|LessEqualExpression|WhileStatement|AddAssignmentExpression|java.lang.String.equals'],\n",
       " 70: ['ClassDefinition|PublicClassSpecifier|MethodDefinition|PublicMethodSpecifier|VoidDataType|BooleanDataType|SimpleVariable|ArrayDataType|IntDataType|SimpleAssignmentExpression|ForStatement|LessExpression|ArrayLength|PostIncrementExpression|IfStatement|ArrayElement|EqualExpression|NotExpression|OrExpression|NotEqualExpression|ReturnStatement|False|WhileStatement|AndExpression|True|GreaterEqualExpression|SubtractExpression|LessEqualExpression|AddExpression|IfElseIfStatement|IfElseStatement|PostDecrementExpression|GreaterExpression|NestedForLoops|AddAssignmentExpression|AutoBoxing|java.lang.Boolean'],\n",
       " 71: ['ClassDefinition|PublicClassSpecifier|MethodDefinition|PublicMethodSpecifier|VoidDataType|BooleanDataType|SimpleVariable|ArrayDataType|IntDataType|SimpleAssignmentExpression|ForStatement|NestedForLoops|LessExpression|ArrayLength|PostIncrementExpression|AddAssignmentExpression|ArrayElement|SubtractExpression|GreaterExpression|PostDecrementExpression|IfStatement|EqualExpression|ReturnStatement|True|False|LessEqualExpression|MinusAssignmentExpression|ArrayInitializationStatement|ArrayInitializer|ArrayVariable|ForEachStatement|DoubleDataType|DivideExpression|AddExpression|IfElseStatement|ModulusExpression|ActualMethodParameter|AndExpression|NotEqualExpression|WhileStatement|NotExpression|GreaterEqualExpression|nan|ArrayCreationStatement|MultiplyExpression|IfElseIfStatement'],\n",
       " 118: ['ClassDefinition|PublicClassSpecifier|MethodDefinition|PublicMethodSpecifier|VoidDataType|ArrayDataType|IntDataType|SimpleVariable|IfStatement|NestedForLoops|ArrayLength|GreaterExpression|SimpleAssignmentExpression|ArrayElement|ForStatement|LessExpression|SubtractExpression|PostIncrementExpression|AddExpression|ReturnStatement|EqualExpression|ArrayCreationStatement|ArrayVariable|IfElseStatement|NotEqualExpression|GreaterEqualExpression|PostDecrementExpression|IfElseIfStatement|ModulusExpression|ObjectMethodInvocation|ActualMethodParameter|LessEqualExpression|PreIncrementExpression|AndExpression|OrExpression']}"
      ]
     },
     "execution_count": 41,
     "metadata": {},
     "output_type": "execute_result"
    }
   ],
   "source": [
    "solutions"
   ]
  },
  {
   "cell_type": "markdown",
   "id": "827347e8",
   "metadata": {},
   "source": [
    "## Compare Student Submission to the Solution Space"
   ]
  },
  {
   "cell_type": "code",
   "execution_count": 42,
   "id": "268b5599",
   "metadata": {},
   "outputs": [
    {
     "name": "stdout",
     "output_type": "stream",
     "text": [
      "[0, 'Thing']\n",
      "└── [0, 'Java']\n",
      "    ├── [0, 'JavaLanguage']\n",
      "    │   ├── [0, 'ProgramStructure']\n",
      "    │   │   ├── [0, 'ProgramElementDefinition']\n",
      "    │   │   │   ├── [0, 'ClassDefinition']\n",
      "    │   │   │   └── [0, 'ClassMemberDefinition']\n",
      "    │   │   │       └── [0, 'MethodDefinition']\n",
      "    │   │   └── [0, 'Modifier']\n",
      "    │   │       └── [0, 'PublicModifier']\n",
      "    │   │           ├── [0, 'PublicClassSpecifier']\n",
      "    │   │           └── [0, 'PublicMethodSpecifier']\n",
      "    │   ├── [0, 'Data']\n",
      "    │   │   ├── [0, 'DataType']\n",
      "    │   │   │   ├── [0, 'VoidDataType']\n",
      "    │   │   │   └── [0, 'SimpleDataType']\n",
      "    │   │   │       ├── [0, 'IntDataType']\n",
      "    │   │   │       └── [0, 'BooleanDataType']\n",
      "    │   │   ├── [0, 'Variable']\n",
      "    │   │   │   └── [0, 'SimpleVariable']\n",
      "    │   │   └── [0, 'Value']\n",
      "    │   │       └── [0, 'SimpleDataTypeValue']\n",
      "    │   │           └── [0, 'BooleanValue']\n",
      "    │   │               ├── [0, 'True']\n",
      "    │   │               └── [0, 'False']\n",
      "    │   ├── [0, 'Statement']\n",
      "    │   │   ├── [0, 'SelectionStatement']\n",
      "    │   │   │   ├── [0, 'IfElseStatement']\n",
      "    │   │   │   ├── [0, 'IfElseIfStatement']\n",
      "    │   │   │   └── [0, 'IfStatement']\n",
      "    │   │   ├── [0, 'JumpStatement']\n",
      "    │   │   │   └── [0, 'ReturnStatement']\n",
      "    │   │   └── [0, 'IterationStatement']\n",
      "    │   │       └── [0, 'WhileStatement']\n",
      "    │   └── [0, 'Expression']\n",
      "    │       ├── [0, 'LogicalExpression']\n",
      "    │       │   ├── [0, 'BooleanExpression']\n",
      "    │       │   │   ├── [0, 'NotExpression']\n",
      "    │       │   │   ├── [0, 'AndExpression']\n",
      "    │       │   │   └── [0, 'OrExpression']\n",
      "    │       │   └── [0, 'RelationalExpression']\n",
      "    │       │       ├── [0, 'LessEqualExpression']\n",
      "    │       │       ├── [0, 'GreaterExpression']\n",
      "    │       │       ├── [0, 'EqualExpression']\n",
      "    │       │       ├── [0, 'GreaterEqualExpression']\n",
      "    │       │       ├── [0, 'LessExpression']\n",
      "    │       │       └── [0, 'NotEqualExpression']\n",
      "    │       ├── [0, 'AssignmentExpression']\n",
      "    │       │   ├── [0, 'SimpleAssignmentExpression']\n",
      "    │       │   └── [0, 'ArithmeticAssignmentExpression']\n",
      "    │       │       └── [0, 'AddAssignmentExpression']\n",
      "    │       ├── [0, 'ArithmeticExpression']\n",
      "    │       │   ├── [0, 'AdditiveExpression']\n",
      "    │       │   │   ├── [0, 'SubtractExpression']\n",
      "    │       │   │   └── [0, 'AddExpression']\n",
      "    │       │   └── [0, 'MultiplicativeExpression']\n",
      "    │       │       └── [0, 'MultiplyExpression']\n",
      "    │       ├── [0, 'TypeCasting']\n",
      "    │       │   └── [0, 'AutoBoxing']\n",
      "    │       └── [0, 'ActualMethodParameter']\n",
      "    └── [0, 'JavaOOP']\n",
      "        └── [0, 'Class']\n",
      "            └── [0, 'JavaStandardLibraryClass']\n",
      "                └── [0, 'WrapperClass']\n",
      "                    └── [0, 'java.lang.Integer']\n"
     ]
    }
   ],
   "source": [
    "print_ast(parse_java(solutions[13][0]))"
   ]
  },
  {
   "cell_type": "code",
   "execution_count": null,
   "id": "66701ada",
   "metadata": {},
   "outputs": [],
   "source": [
    "cache = {}\n",
    "def get_list_of_nodes(programName, dataInput):\n",
    "    if programName not in solutions:\n",
    "        print(\"Not found in solutions\")\n",
    "        return \":\"\n",
    "\n",
    "    min_op = 50\n",
    "    try:\n",
    "        submission = parse_java(dataInput)\n",
    "    except:\n",
    "        submission = None\n",
    "        target = parse_java(solutions[programName][0])\n",
    "        incorrect_ops = tree_edit_distance_with_operations(target, submission)\n",
    "    else:\n",
    "        # find two closest candidates for comparing the trees\n",
    "        submission_vec = compute_tfidf_ood(submission, *tfidf_params[programName])\n",
    "        # dfs_tree = dfs_traversal(submission)\n",
    "        d_tfidf = []\n",
    "        for vec in solutions_embedded[programName]:\n",
    "            d_tfidf.append(euclidean_distance(submission_vec, vec))\n",
    "\n",
    "        sort_counter = 0\n",
    "        indice = np.argmin(d_tfidf)\n",
    "        while True:\n",
    "            sort_counter += 1\n",
    "            try:\n",
    "                sol_tfidf = solutions[programName][indice]\n",
    "                _ = parse_java(sol_tfidf)\n",
    "                break\n",
    "            except:\n",
    "                indice = np.argsort(d_tfidf)[sort_counter:][0]\n",
    "\n",
    "\n",
    "        # d_align = []\n",
    "        # for tree in (solutions_traversal[programName]):\n",
    "        #     d_align.append(calculate_dissimilarity(dfs_tree, tree))\n",
    "        # sol_align = solutions[programName][np.argmin(d_align)]\n",
    "        ops_tfidf = tree_edit_distance_with_operations(parse_java(sol_tfidf), submission)\n",
    "\n",
    "        incorrect_ops = ops_tfidf\n",
    "        target = parse_java(sol_tfidf)\n",
    "        \n",
    "\n",
    "    correct_ops = set_of_children(target).difference(incorrect_ops)\n",
    "    l = ','.join(list(correct_ops) + list(incorrect_ops)) + ':' + ','.join('1'*len(correct_ops)+'0'*len(incorrect_ops))\n",
    "    \n",
    "    return l"
   ]
  },
  {
   "cell_type": "markdown",
   "id": "98316781",
   "metadata": {},
   "source": [
    "## Generate Transaction Data"
   ]
  },
  {
   "cell_type": "code",
   "execution_count": null,
   "id": "63124d24",
   "metadata": {},
   "outputs": [],
   "source": [
    "cols = [\n",
    "    'Transaction Id',\n",
    "    'Anon Student Id',\n",
    "    'Session Id', # set to 1 for all\n",
    "    'Time',\n",
    "    'Level (Unit)', # homework no\n",
    "    'Problem Name',\n",
    "    'Problem Start Time',\n",
    "    'Input',\n",
    "    'Step Name',\n",
    "    'Outcome',\n",
    "    'KC (Binary-Node)',\n",
    "    'KC Category (Binary-Node)'\n",
    "]"
   ]
  },
  {
   "cell_type": "code",
   "execution_count": 43,
   "id": "31ea3e99",
   "metadata": {},
   "outputs": [],
   "source": [
    "from hashlib import md5\n",
    "\n",
    "def string_hash(string):\n",
    "    return md5(string.encode()).hexdigest()\n"
   ]
  },
  {
   "cell_type": "code",
   "execution_count": null,
   "id": "16a71961",
   "metadata": {},
   "outputs": [],
   "source": [
    "from collections import defaultdict\n",
    "counters = defaultdict(int)\n",
    "\n",
    "user_counts = {semester:{} for semester in LIST_OF_SEMESTERS}\n",
    "\n",
    "import string\n",
    "table = str.maketrans('', '', string.ascii_lowercase)\n",
    "\n",
    "def user_counter(anonid, semester):\n",
    "    if anonid not in user_counts[semester]:\n",
    "        counters[semester] += 1\n",
    "        user_counts[semester][anonid] = f\"{semester.translate(table)}-S{counters[semester]:05d}\"\n",
    "    return user_counts[semester][anonid]"
   ]
  },
  {
   "cell_type": "code",
   "execution_count": 44,
   "id": "80b47206",
   "metadata": {},
   "outputs": [],
   "source": [
    "state_to_list = pd.read_csv(\"codestate_kc.csv\")\n",
    "\n",
    "def code_state_to_ontology_lookup(codestateid):\n",
    "    x = state_to_list[state_to_list['CodeStateID'] == codestateid]['KC'].values.tolist()\n",
    "    x = \"|\".join(x)\n",
    "    return x"
   ]
  },
  {
   "cell_type": "code",
   "execution_count": null,
   "id": "635c29ba",
   "metadata": {},
   "outputs": [
    {
     "data": {
      "text/html": [
       "<div>\n",
       "<style scoped>\n",
       "    .dataframe tbody tr th:only-of-type {\n",
       "        vertical-align: middle;\n",
       "    }\n",
       "\n",
       "    .dataframe tbody tr th {\n",
       "        vertical-align: top;\n",
       "    }\n",
       "\n",
       "    .dataframe thead th {\n",
       "        text-align: right;\n",
       "    }\n",
       "</style>\n",
       "<table border=\"1\" class=\"dataframe\">\n",
       "  <thead>\n",
       "    <tr style=\"text-align: right;\">\n",
       "      <th></th>\n",
       "      <th>KC</th>\n",
       "      <th>CodeStateID</th>\n",
       "    </tr>\n",
       "  </thead>\n",
       "  <tbody>\n",
       "  </tbody>\n",
       "</table>\n",
       "</div>"
      ],
      "text/plain": [
       "Empty DataFrame\n",
       "Columns: [KC, CodeStateID]\n",
       "Index: []"
      ]
     },
     "execution_count": 25,
     "metadata": {},
     "output_type": "execute_result"
    }
   ],
   "source": [
    "state_to_list[state_to_list['CodeStateID'] == 1717563]"
   ]
  },
  {
   "cell_type": "code",
   "execution_count": 45,
   "id": "233f1a76",
   "metadata": {},
   "outputs": [
    {
     "data": {
      "text/plain": [
       "''"
      ]
     },
     "execution_count": 45,
     "metadata": {},
     "output_type": "execute_result"
    }
   ],
   "source": [
    "code_state_to_ontology_lookup(1723984)\n",
    "code_state_to_ontology_lookup(1717563)\n"
   ]
  },
  {
   "cell_type": "code",
   "execution_count": null,
   "id": "f9c5bfcb",
   "metadata": {},
   "outputs": [
    {
     "data": {
      "text/plain": [
       "{13: [array([0.33333333, 0.33333333, 0.33333333])],\n",
       " 232: [array([0.33333333, 0.33333333, 0.33333333])],\n",
       " 235: [array([0.33333333, 0.33333333, 0.33333333])],\n",
       " 234: [array([0.33333333, 0.33333333, 0.33333333])],\n",
       " 236: [array([0.33333333, 0.33333333, 0.33333333])],\n",
       " 5: [array([0.33333333, 0.33333333, 0.33333333])],\n",
       " 233: [array([0.33333333, 0.33333333, 0.33333333])],\n",
       " 1: [array([0.33333333, 0.33333333, 0.33333333])],\n",
       " 3: [array([0.33333333, 0.33333333, 0.33333333])],\n",
       " 12: [array([0.33333333, 0.33333333, 0.33333333])],\n",
       " 24: [array([0.33333333, 0.33333333, 0.33333333])],\n",
       " 100: [array([0.33333333, 0.33333333, 0.33333333])],\n",
       " 101: [array([0.33333333, 0.33333333, 0.33333333])],\n",
       " 102: [array([0.33333333, 0.33333333, 0.33333333])],\n",
       " 25: [array([0.33333333, 0.33333333, 0.33333333])],\n",
       " 17: [array([0.33333333, 0.33333333, 0.33333333])],\n",
       " 28: [array([0.33333333, 0.33333333, 0.33333333])],\n",
       " 21: [array([0.33333333, 0.33333333, 0.33333333])],\n",
       " 20: [array([0.33333333, 0.33333333, 0.33333333])],\n",
       " 22: [array([0.33333333, 0.33333333, 0.33333333])],\n",
       " 40: [array([0.33333333, 0.33333333, 0.33333333])],\n",
       " 37: [array([0.33333333, 0.33333333, 0.33333333])],\n",
       " 38: [array([0.33333333, 0.33333333, 0.33333333])],\n",
       " 128: [array([0.33333333, 0.33333333, 0.33333333])],\n",
       " 39: [array([0.33333333, 0.33333333, 0.33333333])],\n",
       " 36: [array([0.33333333, 0.33333333, 0.33333333])],\n",
       " 32: [array([0.33333333, 0.33333333, 0.33333333])],\n",
       " 31: [array([0.33333333, 0.33333333, 0.33333333])],\n",
       " 33: [array([0.33333333, 0.33333333, 0.33333333])],\n",
       " 34: [array([0.33333333, 0.33333333, 0.33333333])],\n",
       " 41: [array([0.33333333, 0.33333333, 0.33333333])],\n",
       " 43: [array([0.33333333, 0.33333333, 0.33333333])],\n",
       " 44: [array([0.33333333, 0.33333333, 0.33333333])],\n",
       " 46: [array([0.33333333, 0.33333333, 0.33333333])],\n",
       " 49: [array([0.33333333, 0.33333333, 0.33333333])],\n",
       " 67: [array([0.33333333, 0.33333333, 0.33333333])],\n",
       " 108: [array([0.33333333, 0.33333333, 0.33333333])],\n",
       " 107: [array([0.33333333, 0.33333333, 0.33333333])],\n",
       " 104: [array([0.33333333, 0.33333333, 0.33333333])],\n",
       " 106: [array([0.33333333, 0.33333333, 0.33333333])],\n",
       " 48: [array([0.33333333, 0.33333333, 0.33333333])],\n",
       " 45: [array([0.33333333, 0.33333333, 0.33333333])],\n",
       " 51: [array([0.33333333, 0.33333333, 0.33333333])],\n",
       " 112: [array([0.33333333, 0.33333333, 0.33333333])],\n",
       " 56: [array([0.33333333, 0.33333333, 0.33333333])],\n",
       " 57: [array([0.33333333, 0.33333333, 0.33333333])],\n",
       " 64: [array([0.33333333, 0.33333333, 0.33333333])],\n",
       " 70: [array([0.33333333, 0.33333333, 0.33333333])],\n",
       " 71: [array([0.33333333, 0.33333333, 0.33333333])],\n",
       " 118: [array([0.33333333, 0.33333333, 0.33333333])]}"
      ]
     },
     "execution_count": 27,
     "metadata": {},
     "output_type": "execute_result"
    }
   ],
   "source": [
    "solutions_embedded"
   ]
  },
  {
   "cell_type": "code",
   "execution_count": 46,
   "id": "80ef51d2",
   "metadata": {},
   "outputs": [],
   "source": [
    "def populate_import_csv(data, semester, random_set=None):\n",
    "    df = pd.DataFrame()\n",
    "    df[cols[1]] = data['AnonID'].apply(user_counter, args=(semester,))\n",
    "    \n",
    "    if random_set is not None:\n",
    "        df = df[df['Anon Student Id'].isin(random_set)]\n",
    "    \n",
    "    df[cols[2]] = 1\n",
    "    df[cols[3]] = data['Timestamp'].apply(lambda x: x.replace('T', ' '))\n",
    "    df[cols[4]] = data['Assessment']\n",
    "    df[cols[5]] = data['ProblemName']\n",
    "    df[cols[6]] = df[cols[3]] # str apply [:-6]\n",
    "    tqdm.pandas()\n",
    "\n",
    "    series = data.progress_apply(lambda x: get_list_of_nodes(x['ProblemName'], code_state_to_ontology_lookup(x['CodeStateID'])), axis=1)\n",
    "\n",
    "    df[cols[9]] = series.apply(lambda x: x.split(':')[1])\n",
    "    df[cols[10]] = series.apply(lambda x: x.split(':')[0])\n",
    "\n",
    "    df[cols[11]] = ''\n",
    "    df = df.drop_duplicates(subset=[cols[1], cols[5]])\n",
    "    df = df.assign(**{cols[10]: df[cols[10]].str.split(','),\n",
    "                      cols[9]: df[cols[9]].str.split(',').apply(lambda x: x if '' in x else [float(i) for i in x])}).explode(\n",
    "        [cols[10], cols[9]])\n",
    "    df[cols[9]] = df[cols[9]].apply(lambda x: 'CORRECT' if x == 1.0 else 'INCORRECT')\n",
    "    df[cols[8]] = df[cols[10]]\n",
    "\n",
    "    df.reset_index()\n",
    "    return df"
   ]
  },
  {
   "cell_type": "code",
   "execution_count": null,
   "id": "33607b46",
   "metadata": {},
   "outputs": [],
   "source": [
    "populate_import_csv(pd.read_csv('/Users/mehmetarifdemirtas/SummerSchoolCMU24/ast-kc-step-generation/student_interaction_data/semester/FilteredMainTable.csv'), 'semester', ['-S00174'])"
   ]
  },
  {
   "cell_type": "code",
   "execution_count": null,
   "id": "5dc50e9f",
   "metadata": {},
   "outputs": [],
   "source": [
    "student_dict = {}"
   ]
  },
  {
   "cell_type": "code",
   "execution_count": null,
   "id": "4c4f72a4",
   "metadata": {},
   "outputs": [],
   "source": [
    "print(\"x\")"
   ]
  },
  {
   "cell_type": "code",
   "execution_count": 30,
   "id": "0b8d93f4",
   "metadata": {},
   "outputs": [
    {
     "data": {
      "application/vnd.jupyter.widget-view+json": {
       "model_id": "fb7fc069bba74071960e81713b8155f3",
       "version_major": 2,
       "version_minor": 0
      },
      "text/plain": [
       "  0%|          | 0/69627 [00:00<?, ?it/s]"
      ]
     },
     "metadata": {},
     "output_type": "display_data"
    },
    {
     "name": "stdout",
     "output_type": "stream",
     "text": [
      "ProgramElementDefinition\n",
      "├── [0, 'ClassDefinition']\n",
      "└── [0, 'ClassMemberDefinition']\n",
      "ProgramElementDefinition\n",
      "├── [0, 'ClassDefinition']\n",
      "└── [0, 'ClassMemberDefinition']\n"
     ]
    }
   ],
   "source": [
    "populate_import_csv(pd.read_csv('/Users/mehmetarifdemirtas/SummerSchoolCMU24/ast-kc-step-generation/student_interaction_data/semester/FilteredMainTable.csv'), 'semester', ['-S00174'])"
   ]
  },
  {
   "cell_type": "code",
   "execution_count": 39,
   "id": "2ca5a47a",
   "metadata": {
    "scrolled": true
   },
   "outputs": [
    {
     "data": {
      "application/vnd.jupyter.widget-view+json": {
       "model_id": "228dee9369494999b3d9fe7e1b916fe5",
       "version_major": 2,
       "version_minor": 0
      },
      "text/plain": [
       "  0%|          | 0/1 [00:00<?, ?it/s]"
      ]
     },
     "metadata": {},
     "output_type": "display_data"
    },
    {
     "data": {
      "application/vnd.jupyter.widget-view+json": {
       "model_id": "fc592a23c7b845c2afe618c718353160",
       "version_major": 2,
       "version_minor": 0
      },
      "text/plain": [
       "  0%|          | 0/3739 [00:00<?, ?it/s]"
      ]
     },
     "metadata": {},
     "output_type": "display_data"
    }
   ],
   "source": [
    "for root, dirs, files in os.walk(STUDENT_INTERACTION_DATA):\n",
    "    if len(dirs) > 0:\n",
    "        continue\n",
    "    users = {} \n",
    "    np.random.seed(42)\n",
    "    random_set = None\n",
    "    student_list = []\n",
    "    for file in tqdm(files):\n",
    "        data = pd.read_csv(os.path.join(root, file))\n",
    "        data=data[data['AnonID'].isin(\n",
    "            [14205,\n",
    "            14360,\n",
    "            13426,\n",
    "            14210,\n",
    "            14368,\n",
    "            9453,\n",
    "            9217,\n",
    "            14379,\n",
    "            14450,\n",
    "            14347,\n",
    "            14371,\n",
    "            14497,\n",
    "            10385,\n",
    "            14334,\n",
    "            14163,\n",
    "            14332,\n",
    "            6048,\n",
    "            14337,\n",
    "            14470,\n",
    "            14372])]\n",
    "        if len(data) <= 0:\n",
    "            continue\n",
    "        random_set = ['-S00395', '-S00350', '-S00401', '-S00354', '-S00182', '-S00409',\n",
    "       '-S00297', '-S00245', '-S00317', '-S00196', '-S00292', '-S00071',\n",
    "       '-S00080', '-S00056', '-S00142', '-S00174', '-S00057', '-S00291',\n",
    "       '-S00166', '-S00325']\n",
    "\n",
    "        df = populate_import_csv(data, root.split('/')[-1], random_set=None)\n",
    "        #df = populate_import_csv(data, root.split('\\\\')[-1], random_set)\n",
    "        #if random_set is None:\n",
    "            #df = df[df['Anon Student Id'].isin(random_set)]\n",
    "        student_list.extend(df['Anon Student Id'].unique())\n",
    "        os.makedirs(os.path.join(OUTPUT_FOLDER, root.split('/')[-1]), exist_ok=True)\n",
    "        df.to_csv(os.path.join(OUTPUT_FOLDER, root.split('/')[-1], file[:-4] + '.txt'), sep='\\t')\n",
    "        #os.makedirs(os.path.join(OUTPUT_FOLDER, root.split('\\\\')[-1]), exist_ok=True)\n",
    "        #df.to_csv(os.path.join(OUTPUT_FOLDER, root.split('\\\\')[-1], file[:-4] + '.txt'), sep='\\t')\n"
   ]
  },
  {
   "cell_type": "code",
   "execution_count": 37,
   "id": "f1850190",
   "metadata": {},
   "outputs": [
    {
     "data": {
      "text/html": [
       "<div>\n",
       "<style scoped>\n",
       "    .dataframe tbody tr th:only-of-type {\n",
       "        vertical-align: middle;\n",
       "    }\n",
       "\n",
       "    .dataframe tbody tr th {\n",
       "        vertical-align: top;\n",
       "    }\n",
       "\n",
       "    .dataframe thead th {\n",
       "        text-align: right;\n",
       "    }\n",
       "</style>\n",
       "<table border=\"1\" class=\"dataframe\">\n",
       "  <thead>\n",
       "    <tr style=\"text-align: right;\">\n",
       "      <th></th>\n",
       "      <th>AnonID</th>\n",
       "      <th>Timestamp</th>\n",
       "      <th>Assessment</th>\n",
       "      <th>ProblemName</th>\n",
       "      <th>TransactionID</th>\n",
       "      <th>Score</th>\n",
       "      <th>CodeStateID</th>\n",
       "      <th>SessionID</th>\n",
       "      <th>MaxScore</th>\n",
       "      <th>Input</th>\n",
       "      <th>SubmissionNumber</th>\n",
       "    </tr>\n",
       "  </thead>\n",
       "  <tbody>\n",
       "    <tr>\n",
       "      <th>1852</th>\n",
       "      <td>14205</td>\n",
       "      <td>2019-02-22T19:42:21</td>\n",
       "      <td>439.0</td>\n",
       "      <td>13</td>\n",
       "      <td>13-52143</td>\n",
       "      <td>0.0</td>\n",
       "      <td>1723984</td>\n",
       "      <td>0</td>\n",
       "      <td>1</td>\n",
       "      <td>public int caughtSpeeding(int speed, boolean i...</td>\n",
       "      <td>1</td>\n",
       "    </tr>\n",
       "    <tr>\n",
       "      <th>1853</th>\n",
       "      <td>14205</td>\n",
       "      <td>2019-02-22T19:42:33</td>\n",
       "      <td>439.0</td>\n",
       "      <td>13</td>\n",
       "      <td>13-52146</td>\n",
       "      <td>1.0</td>\n",
       "      <td>1723986</td>\n",
       "      <td>0</td>\n",
       "      <td>1</td>\n",
       "      <td>public int caughtSpeeding(int speed, boolean i...</td>\n",
       "      <td>2</td>\n",
       "    </tr>\n",
       "    <tr>\n",
       "      <th>1855</th>\n",
       "      <td>14205</td>\n",
       "      <td>2019-02-22T19:45:04</td>\n",
       "      <td>439.0</td>\n",
       "      <td>232</td>\n",
       "      <td>232-49762</td>\n",
       "      <td>1.0</td>\n",
       "      <td>1723997</td>\n",
       "      <td>0</td>\n",
       "      <td>1</td>\n",
       "      <td>public String alarmClock(int day, boolean vaca...</td>\n",
       "      <td>1</td>\n",
       "    </tr>\n",
       "    <tr>\n",
       "      <th>1858</th>\n",
       "      <td>14205</td>\n",
       "      <td>2019-02-22T19:47:39</td>\n",
       "      <td>439.0</td>\n",
       "      <td>235</td>\n",
       "      <td>235-22685</td>\n",
       "      <td>1.0</td>\n",
       "      <td>1724002</td>\n",
       "      <td>0</td>\n",
       "      <td>1</td>\n",
       "      <td>public int dateFashion(int you, int date)\\n{\\n...</td>\n",
       "      <td>1</td>\n",
       "    </tr>\n",
       "    <tr>\n",
       "      <th>1861</th>\n",
       "      <td>14205</td>\n",
       "      <td>2019-02-22T19:49:51</td>\n",
       "      <td>439.0</td>\n",
       "      <td>234</td>\n",
       "      <td>234-21338</td>\n",
       "      <td>1.0</td>\n",
       "      <td>1724012</td>\n",
       "      <td>0</td>\n",
       "      <td>1</td>\n",
       "      <td>public boolean cigarParty(int cigars, boolean ...</td>\n",
       "      <td>1</td>\n",
       "    </tr>\n",
       "    <tr>\n",
       "      <th>...</th>\n",
       "      <td>...</td>\n",
       "      <td>...</td>\n",
       "      <td>...</td>\n",
       "      <td>...</td>\n",
       "      <td>...</td>\n",
       "      <td>...</td>\n",
       "      <td>...</td>\n",
       "      <td>...</td>\n",
       "      <td>...</td>\n",
       "      <td>...</td>\n",
       "      <td>...</td>\n",
       "    </tr>\n",
       "    <tr>\n",
       "      <th>68738</th>\n",
       "      <td>14332</td>\n",
       "      <td>2019-05-06T02:38:59</td>\n",
       "      <td>502.0</td>\n",
       "      <td>64</td>\n",
       "      <td>64-15590</td>\n",
       "      <td>1.0</td>\n",
       "      <td>1927539</td>\n",
       "      <td>0</td>\n",
       "      <td>1</td>\n",
       "      <td>public String[] fizzBuzz(int start, int end)\\n...</td>\n",
       "      <td>1</td>\n",
       "    </tr>\n",
       "    <tr>\n",
       "      <th>68746</th>\n",
       "      <td>14332</td>\n",
       "      <td>2019-05-06T02:39:46</td>\n",
       "      <td>502.0</td>\n",
       "      <td>70</td>\n",
       "      <td>70-6143</td>\n",
       "      <td>1.0</td>\n",
       "      <td>1927547</td>\n",
       "      <td>0</td>\n",
       "      <td>1</td>\n",
       "      <td>public boolean twoTwo(int[] nums)\\n{\\n    if(n...</td>\n",
       "      <td>1</td>\n",
       "    </tr>\n",
       "    <tr>\n",
       "      <th>68755</th>\n",
       "      <td>14332</td>\n",
       "      <td>2019-05-06T02:40:43</td>\n",
       "      <td>502.0</td>\n",
       "      <td>71</td>\n",
       "      <td>71-3262</td>\n",
       "      <td>1.0</td>\n",
       "      <td>1927559</td>\n",
       "      <td>0</td>\n",
       "      <td>1</td>\n",
       "      <td>public boolean canBalance(int[] nums)\\n{\\n    ...</td>\n",
       "      <td>1</td>\n",
       "    </tr>\n",
       "    <tr>\n",
       "      <th>68760</th>\n",
       "      <td>14332</td>\n",
       "      <td>2019-05-06T02:41:16</td>\n",
       "      <td>502.0</td>\n",
       "      <td>112</td>\n",
       "      <td>112-2787</td>\n",
       "      <td>1.0</td>\n",
       "      <td>1927564</td>\n",
       "      <td>0</td>\n",
       "      <td>1</td>\n",
       "      <td>public int[] seriesUp(int n)\\n{\\n    int[] arr...</td>\n",
       "      <td>1</td>\n",
       "    </tr>\n",
       "    <tr>\n",
       "      <th>68768</th>\n",
       "      <td>14332</td>\n",
       "      <td>2019-05-06T02:41:59</td>\n",
       "      <td>502.0</td>\n",
       "      <td>118</td>\n",
       "      <td>118-6333</td>\n",
       "      <td>1.0</td>\n",
       "      <td>1927573</td>\n",
       "      <td>0</td>\n",
       "      <td>1</td>\n",
       "      <td>public int[] shiftLeft(int[] nums)\\n{\\n    if ...</td>\n",
       "      <td>1</td>\n",
       "    </tr>\n",
       "  </tbody>\n",
       "</table>\n",
       "<p>3739 rows × 11 columns</p>\n",
       "</div>"
      ],
      "text/plain": [
       "       AnonID            Timestamp  Assessment  ProblemName TransactionID  \\\n",
       "1852    14205  2019-02-22T19:42:21       439.0           13      13-52143   \n",
       "1853    14205  2019-02-22T19:42:33       439.0           13      13-52146   \n",
       "1855    14205  2019-02-22T19:45:04       439.0          232     232-49762   \n",
       "1858    14205  2019-02-22T19:47:39       439.0          235     235-22685   \n",
       "1861    14205  2019-02-22T19:49:51       439.0          234     234-21338   \n",
       "...       ...                  ...         ...          ...           ...   \n",
       "68738   14332  2019-05-06T02:38:59       502.0           64      64-15590   \n",
       "68746   14332  2019-05-06T02:39:46       502.0           70       70-6143   \n",
       "68755   14332  2019-05-06T02:40:43       502.0           71       71-3262   \n",
       "68760   14332  2019-05-06T02:41:16       502.0          112      112-2787   \n",
       "68768   14332  2019-05-06T02:41:59       502.0          118      118-6333   \n",
       "\n",
       "       Score  CodeStateID  SessionID  MaxScore  \\\n",
       "1852     0.0      1723984          0         1   \n",
       "1853     1.0      1723986          0         1   \n",
       "1855     1.0      1723997          0         1   \n",
       "1858     1.0      1724002          0         1   \n",
       "1861     1.0      1724012          0         1   \n",
       "...      ...          ...        ...       ...   \n",
       "68738    1.0      1927539          0         1   \n",
       "68746    1.0      1927547          0         1   \n",
       "68755    1.0      1927559          0         1   \n",
       "68760    1.0      1927564          0         1   \n",
       "68768    1.0      1927573          0         1   \n",
       "\n",
       "                                                   Input  SubmissionNumber  \n",
       "1852   public int caughtSpeeding(int speed, boolean i...                 1  \n",
       "1853   public int caughtSpeeding(int speed, boolean i...                 2  \n",
       "1855   public String alarmClock(int day, boolean vaca...                 1  \n",
       "1858   public int dateFashion(int you, int date)\\n{\\n...                 1  \n",
       "1861   public boolean cigarParty(int cigars, boolean ...                 1  \n",
       "...                                                  ...               ...  \n",
       "68738  public String[] fizzBuzz(int start, int end)\\n...                 1  \n",
       "68746  public boolean twoTwo(int[] nums)\\n{\\n    if(n...                 1  \n",
       "68755  public boolean canBalance(int[] nums)\\n{\\n    ...                 1  \n",
       "68760  public int[] seriesUp(int n)\\n{\\n    int[] arr...                 1  \n",
       "68768  public int[] shiftLeft(int[] nums)\\n{\\n    if ...                 1  \n",
       "\n",
       "[3739 rows x 11 columns]"
      ]
     },
     "execution_count": 37,
     "metadata": {},
     "output_type": "execute_result"
    }
   ],
   "source": [
    "data[data['AnonID'].isin(\n",
    "[14205,\n",
    "14360,\n",
    "13426,\n",
    "14210,\n",
    "14368,\n",
    "9453,\n",
    "9217,\n",
    "14379,\n",
    "14450,\n",
    "14347,\n",
    "14371,\n",
    "14497,\n",
    "10385,\n",
    "14334,\n",
    "14163,\n",
    "14332,\n",
    "6048,\n",
    "14337,\n",
    "14470,\n",
    "14372])]"
   ]
  },
  {
   "cell_type": "code",
   "execution_count": 30,
   "id": "3b8ab57c",
   "metadata": {},
   "outputs": [
    {
     "data": {
      "text/plain": [
       "<function __main__.user_counter(anonid, semester)>"
      ]
     },
     "execution_count": 30,
     "metadata": {},
     "output_type": "execute_result"
    }
   ],
   "source": [
    "user_counter\n"
   ]
  },
  {
   "cell_type": "code",
   "execution_count": 31,
   "id": "ccfa28ce",
   "metadata": {},
   "outputs": [
    {
     "data": {
      "text/plain": [
       "['Transaction Id',\n",
       " 'Anon Student Id',\n",
       " 'Session Id',\n",
       " 'Time',\n",
       " 'Level (Unit)',\n",
       " 'Problem Name',\n",
       " 'Problem Start Time',\n",
       " 'Input',\n",
       " 'Step Name',\n",
       " 'Outcome',\n",
       " 'KC (Binary-Node)',\n",
       " 'KC Category (Binary-Node)']"
      ]
     },
     "execution_count": 31,
     "metadata": {},
     "output_type": "execute_result"
    }
   ],
   "source": [
    "cols"
   ]
  },
  {
   "cell_type": "code",
   "execution_count": 32,
   "id": "72cb83ee",
   "metadata": {},
   "outputs": [
    {
     "data": {
      "text/plain": [
       "['-S00395',\n",
       " '-S00350',\n",
       " '-S00401',\n",
       " '-S00354',\n",
       " '-S00182',\n",
       " '-S00409',\n",
       " '-S00297',\n",
       " '-S00245',\n",
       " '-S00317',\n",
       " '-S00196',\n",
       " '-S00292',\n",
       " '-S00071',\n",
       " '-S00080',\n",
       " '-S00056',\n",
       " '-S00142',\n",
       " '-S00174',\n",
       " '-S00057',\n",
       " '-S00291',\n",
       " '-S00166',\n",
       " '-S00325']"
      ]
     },
     "execution_count": 32,
     "metadata": {},
     "output_type": "execute_result"
    }
   ],
   "source": [
    "random_set"
   ]
  },
  {
   "cell_type": "code",
   "execution_count": 33,
   "id": "1841d9e7",
   "metadata": {},
   "outputs": [
    {
     "data": {
      "text/plain": [
       "['-S00056',\n",
       " '-S00057',\n",
       " '-S00071',\n",
       " '-S00080',\n",
       " '-S00142',\n",
       " '-S00166',\n",
       " '-S00174',\n",
       " '-S00182',\n",
       " '-S00196',\n",
       " '-S00245',\n",
       " '-S00291',\n",
       " '-S00292',\n",
       " '-S00297',\n",
       " '-S00317',\n",
       " '-S00325',\n",
       " '-S00350',\n",
       " '-S00354',\n",
       " '-S00395',\n",
       " '-S00401',\n",
       " '-S00409']"
      ]
     },
     "execution_count": 33,
     "metadata": {},
     "output_type": "execute_result"
    }
   ],
   "source": [
    "student_list"
   ]
  },
  {
   "cell_type": "code",
   "execution_count": 34,
   "id": "3fb2eadb",
   "metadata": {},
   "outputs": [
    {
     "name": "stdout",
     "output_type": "stream",
     "text": [
      "14205\n",
      "14360\n",
      "13426\n",
      "14210\n",
      "14368\n",
      "9453\n",
      "9217\n",
      "14379\n",
      "14450\n",
      "14347\n",
      "14371\n",
      "14497\n",
      "10385\n",
      "14334\n",
      "14163\n",
      "14332\n",
      "6048\n",
      "14337\n",
      "14470\n",
      "14372\n"
     ]
    }
   ],
   "source": [
    "d = {v:k for k, v in user_counts['semester'].items()}\n",
    "for s in student_list:\n",
    "    print(d[s])"
   ]
  }
 ],
 "metadata": {
  "kernelspec": {
   "display_name": "Python 3 (ipykernel)",
   "language": "python",
   "name": "python3"
  },
  "language_info": {
   "codemirror_mode": {
    "name": "ipython",
    "version": 3
   },
   "file_extension": ".py",
   "mimetype": "text/x-python",
   "name": "python",
   "nbconvert_exporter": "python",
   "pygments_lexer": "ipython3",
   "version": "3.9.12"
  }
 },
 "nbformat": 4,
 "nbformat_minor": 5
}
